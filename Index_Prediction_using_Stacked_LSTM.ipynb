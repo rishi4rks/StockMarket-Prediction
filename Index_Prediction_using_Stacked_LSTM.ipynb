{
  "nbformat": 4,
  "nbformat_minor": 0,
  "metadata": {
    "colab": {
      "name": "Index Prediction using Stacked LSTM.ipynb",
      "provenance": []
    },
    "kernelspec": {
      "name": "python3",
      "display_name": "Python 3"
    },
    "language_info": {
      "name": "python"
    }
  },
  "cells": [
    {
      "cell_type": "code",
      "metadata": {
        "colab": {
          "resources": {
            "http://localhost:8080/nbextensions/google.colab/files.js": {
              "data": "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",
              "ok": true,
              "headers": [
                [
                  "content-type",
                  "application/javascript"
                ]
              ],
              "status": 200,
              "status_text": ""
            }
          },
          "base_uri": "https://localhost:8080/",
          "height": 73
        },
        "id": "Pm0F6tS8dhWa",
        "outputId": "b0c31546-0dc7-462a-8e8d-48b4809a2fd2"
      },
      "source": [
        "from google.colab import files\n",
        "uploaded = files.upload()"
      ],
      "execution_count": null,
      "outputs": [
        {
          "output_type": "display_data",
          "data": {
            "text/html": [
              "\n",
              "     <input type=\"file\" id=\"files-03cf65d1-bed0-4530-b4d3-a9bd9b7d12be\" name=\"files[]\" multiple disabled\n",
              "        style=\"border:none\" />\n",
              "     <output id=\"result-03cf65d1-bed0-4530-b4d3-a9bd9b7d12be\">\n",
              "      Upload widget is only available when the cell has been executed in the\n",
              "      current browser session. Please rerun this cell to enable.\n",
              "      </output>\n",
              "      <script src=\"/nbextensions/google.colab/files.js\"></script> "
            ],
            "text/plain": [
              "<IPython.core.display.HTML object>"
            ]
          },
          "metadata": {
            "tags": []
          }
        },
        {
          "output_type": "stream",
          "text": [
            "Saving nifty50.csv to nifty50.csv\n"
          ],
          "name": "stdout"
        }
      ]
    },
    {
      "cell_type": "code",
      "metadata": {
        "id": "nCi3OLCWdpqp"
      },
      "source": [
        "import pandas as pd\n",
        "import io\n",
        "df = pd.read_csv(io.BytesIO(uploaded['nifty50.csv']), index_col='Date', parse_dates=True)\n",
        "df = df.dropna()\n",
        "# print('Shape of data', df.shape)\n",
        "df\n",
        "\n",
        "# CONST VALUE\n",
        "steps = 150"
      ],
      "execution_count": null,
      "outputs": []
    },
    {
      "cell_type": "code",
      "metadata": {
        "colab": {
          "base_uri": "https://localhost:8080/"
        },
        "id": "woKZAZj4el0Y",
        "outputId": "1bc5cfd4-c89c-4389-dfcc-3a1a8a962d80"
      },
      "source": [
        "df1=df.reset_index()['Close']\n",
        "df1"
      ],
      "execution_count": null,
      "outputs": [
        {
          "output_type": "execute_result",
          "data": {
            "text/plain": [
              "0        8395.450195\n",
              "1        8378.400391\n",
              "2        8127.350098\n",
              "3        8102.100098\n",
              "4        8234.599609\n",
              "            ...     \n",
              "1560    14923.150391\n",
              "1561    15108.099609\n",
              "1562    15030.150391\n",
              "1563    14906.049805\n",
              "1564    15175.299805\n",
              "Name: Close, Length: 1565, dtype: float64"
            ]
          },
          "metadata": {
            "tags": []
          },
          "execution_count": 3
        }
      ]
    },
    {
      "cell_type": "code",
      "metadata": {
        "colab": {
          "base_uri": "https://localhost:8080/",
          "height": 282
        },
        "id": "sXt9a-6ye3b7",
        "outputId": "b3261e7f-9cc2-4f66-8c1c-2fb4becbac93"
      },
      "source": [
        "import matplotlib.pyplot as plt\n",
        "plt.plot(df1)"
      ],
      "execution_count": null,
      "outputs": [
        {
          "output_type": "execute_result",
          "data": {
            "text/plain": [
              "[<matplotlib.lines.Line2D at 0x7f19910f6750>]"
            ]
          },
          "metadata": {
            "tags": []
          },
          "execution_count": 4
        },
        {
          "output_type": "display_data",
          "data": {
            "image/png": "[encoded data removed]",
            "text/plain": [
              "<Figure size 432x288 with 1 Axes>"
            ]
          },
          "metadata": {
            "tags": [],
            "needs_background": "light"
          }
        }
      ]
    },
    {
      "cell_type": "code",
      "metadata": {
        "colab": {
          "base_uri": "https://localhost:8080/"
        },
        "id": "8SKYTl8ie4Yh",
        "outputId": "e3a3b4cd-e489-4c9d-8465-aa9329af17de"
      },
      "source": [
        "import numpy as np\n",
        "from sklearn.preprocessing import MinMaxScaler\n",
        "scaler=MinMaxScaler(feature_range=(0,1))\n",
        "df1=scaler.fit_transform(np.array(df1).reshape(-1,1))\n",
        "df1.shape"
      ],
      "execution_count": null,
      "outputs": [
        {
          "output_type": "execute_result",
          "data": {
            "text/plain": [
              "(1565, 1)"
            ]
          },
          "metadata": {
            "tags": []
          },
          "execution_count": 5
        }
      ]
    },
    {
      "cell_type": "code",
      "metadata": {
        "colab": {
          "base_uri": "https://localhost:8080/"
        },
        "id": "H6GsdS9lfGWC",
        "outputId": "959cdae9-d013-4474-bb71-9cf1c4596a67"
      },
      "source": [
        "training_size=int(len(df1)*0.75)\n",
        "test_size=int(len(df1)*.15)\n",
        "dataset_length = training_size+test_size\n",
        "train_data,test_data=df1[0:training_size],df1[training_size:dataset_length]\n",
        "training_size, test_size"
      ],
      "execution_count": null,
      "outputs": [
        {
          "output_type": "execute_result",
          "data": {
            "text/plain": [
              "(1173, 234)"
            ]
          },
          "metadata": {
            "tags": []
          },
          "execution_count": 6
        }
      ]
    },
    {
      "cell_type": "code",
      "metadata": {
        "id": "IA4mqnYkfZ1V"
      },
      "source": [
        "def create_dataset(dataset, time_step=1):\n",
        "\tdataX, dataY = [], []\n",
        "\tfor i in range(len(dataset)-time_step-1):\n",
        "\t\ta = dataset[i:(i+time_step), 0]   # i=0 => 0,1,2,3-----99   150 \n",
        "\t\tdataX.append(a)\n",
        "\t\tdataY.append(dataset[i + time_step, 0])\n",
        "\treturn np.array(dataX), np.array(dataY)"
      ],
      "execution_count": null,
      "outputs": []
    },
    {
      "cell_type": "code",
      "metadata": {
        "colab": {
          "base_uri": "https://localhost:8080/"
        },
        "id": "lpIKop-Sfda8",
        "outputId": "29005926-b350-4d53-fa7d-e28faf759592"
      },
      "source": [
        "time_step = 150\n",
        "x_train, y_train = create_dataset(train_data, time_step)\n",
        "x_test, y_test = create_dataset(test_data, time_step)\n",
        "print(x_train.shape), print(y_train.shape)"
      ],
      "execution_count": null,
      "outputs": [
        {
          "output_type": "stream",
          "text": [
            "(1022, 150)\n",
            "(1022,)\n"
          ],
          "name": "stdout"
        },
        {
          "output_type": "execute_result",
          "data": {
            "text/plain": [
              "(None, None)"
            ]
          },
          "metadata": {
            "tags": []
          },
          "execution_count": 8
        }
      ]
    },
    {
      "cell_type": "code",
      "metadata": {
        "colab": {
          "base_uri": "https://localhost:8080/"
        },
        "id": "pH8bWZskffJQ",
        "outputId": "774ffa40-a339-498c-a708-077ba27fed1d"
      },
      "source": [
        "print(x_test.shape), print(y_test.shape)"
      ],
      "execution_count": null,
      "outputs": [
        {
          "output_type": "stream",
          "text": [
            "(83, 150)\n",
            "(83,)\n"
          ],
          "name": "stdout"
        },
        {
          "output_type": "execute_result",
          "data": {
            "text/plain": [
              "(None, None)"
            ]
          },
          "metadata": {
            "tags": []
          },
          "execution_count": 9
        }
      ]
    },
    {
      "cell_type": "code",
      "metadata": {
        "id": "OoeGv_Cx33S0"
      },
      "source": [
        "import tensorflow as tf\n",
        "# reshape input to be [samples, time steps, features] which is required for LSTM\n",
        "x_train = x_train.reshape(x_train.shape[0], x_train.shape[1], 1)\n",
        "x_test = x_test.reshape(x_test.shape[0], x_test.shape[1], 1)"
      ],
      "execution_count": null,
      "outputs": []
    },
    {
      "cell_type": "code",
      "metadata": {
        "colab": {
          "base_uri": "https://localhost:8080/"
        },
        "id": "HQhSaY1n4I37",
        "outputId": "9c38948a-b2bf-4fe0-9d20-c6fd851ea81f"
      },
      "source": [
        "# Create the Stacked LSTM model\n",
        "from tensorflow.keras.models import Sequential\n",
        "from tensorflow.keras.layers import Dense\n",
        "from tensorflow.keras.layers import LSTM\n",
        "model=Sequential()\n",
        "model.add(LSTM(50,return_sequences=True,input_shape=(steps,1)))\n",
        "model.add(LSTM(50,return_sequences=True))\n",
        "model.add(LSTM(50))\n",
        "model.add(Dense(1))\n",
        "model.compile(loss='mean_squared_error',optimizer='adam')\n",
        "model.summary()"
      ],
      "execution_count": null,
      "outputs": [
        {
          "output_type": "stream",
          "text": [
            "Model: \"sequential_1\"\n",
            "_________________________________________________________________\n",
            "Layer (type)                 Output Shape              Param #   \n",
            "=================================================================\n",
            "lstm_3 (LSTM)                (None, 150, 50)           10400     \n",
            "_________________________________________________________________\n",
            "lstm_4 (LSTM)                (None, 150, 50)           20200     \n",
            "_________________________________________________________________\n",
            "lstm_5 (LSTM)                (None, 50)                20200     \n",
            "_________________________________________________________________\n",
            "dense_1 (Dense)              (None, 1)                 51        \n",
            "=================================================================\n",
            "Total params: 50,851\n",
            "Trainable params: 50,851\n",
            "Non-trainable params: 0\n",
            "_________________________________________________________________\n"
          ],
          "name": "stdout"
        }
      ]
    },
    {
      "cell_type": "code",
      "metadata": {
        "id": "GCCs8p1P4Qcm"
      },
      "source": [
        "# Lets Do the prediction and check performance metrics\n",
        "train_predict = model.predict(x_train)\n",
        "test_predict = model.predict(x_test)"
      ],
      "execution_count": null,
      "outputs": []
    },
    {
      "cell_type": "code",
      "metadata": {
        "colab": {
          "base_uri": "https://localhost:8080/"
        },
        "id": "mDecHdUXvgFM",
        "outputId": "8807ccc5-6423-4d6f-fdc9-e0e88d7b9289"
      },
      "source": [
        "model.fit(x_train,y_train,validation_data = (x_test,y_test), epochs = 100, batch_size = 64,verbose = 1)"
      ],
      "execution_count": null,
      "outputs": [
        {
          "output_type": "stream",
          "text": [
            "Epoch 1/100\n",
            "16/16 [==============================] - 11s 360ms/step - loss: 0.0452 - val_loss: 0.0143\n",
            "Epoch 2/100\n",
            "16/16 [==============================] - 4s 262ms/step - loss: 0.0041 - val_loss: 0.0060\n",
            "Epoch 3/100\n",
            "16/16 [==============================] - 4s 256ms/step - loss: 0.0014 - val_loss: 0.0041\n",
            "Epoch 4/100\n",
            "16/16 [==============================] - 4s 262ms/step - loss: 0.0011 - val_loss: 0.0020\n",
            "Epoch 5/100\n",
            "16/16 [==============================] - 4s 268ms/step - loss: 7.9873e-04 - val_loss: 0.0020\n",
            "Epoch 6/100\n",
            "16/16 [==============================] - 4s 260ms/step - loss: 7.9331e-04 - val_loss: 0.0019\n",
            "Epoch 7/100\n",
            "16/16 [==============================] - 4s 258ms/step - loss: 7.5427e-04 - val_loss: 0.0017\n",
            "Epoch 8/100\n",
            "16/16 [==============================] - 4s 270ms/step - loss: 7.7054e-04 - val_loss: 0.0022\n",
            "Epoch 9/100\n",
            "16/16 [==============================] - 4s 258ms/step - loss: 7.6013e-04 - val_loss: 0.0016\n",
            "Epoch 10/100\n",
            "16/16 [==============================] - 4s 261ms/step - loss: 6.9974e-04 - val_loss: 0.0018\n",
            "Epoch 11/100\n",
            "16/16 [==============================] - 4s 267ms/step - loss: 6.7601e-04 - val_loss: 0.0015\n",
            "Epoch 12/100\n",
            "16/16 [==============================] - 4s 258ms/step - loss: 6.6607e-04 - val_loss: 0.0015\n",
            "Epoch 13/100\n",
            "16/16 [==============================] - 4s 258ms/step - loss: 6.9146e-04 - val_loss: 0.0016\n",
            "Epoch 14/100\n",
            "16/16 [==============================] - 4s 267ms/step - loss: 5.8595e-04 - val_loss: 0.0013\n",
            "Epoch 15/100\n",
            "16/16 [==============================] - 4s 258ms/step - loss: 6.0750e-04 - val_loss: 0.0014\n",
            "Epoch 16/100\n",
            "16/16 [==============================] - 4s 261ms/step - loss: 6.5628e-04 - val_loss: 0.0012\n",
            "Epoch 17/100\n",
            "16/16 [==============================] - 4s 265ms/step - loss: 6.0542e-04 - val_loss: 0.0013\n",
            "Epoch 18/100\n",
            "16/16 [==============================] - 4s 260ms/step - loss: 5.3934e-04 - val_loss: 9.6591e-04\n",
            "Epoch 19/100\n",
            "16/16 [==============================] - 4s 261ms/step - loss: 6.3935e-04 - val_loss: 9.4567e-04\n",
            "Epoch 20/100\n",
            "16/16 [==============================] - 4s 263ms/step - loss: 5.6319e-04 - val_loss: 0.0013\n",
            "Epoch 21/100\n",
            "16/16 [==============================] - 4s 263ms/step - loss: 5.6520e-04 - val_loss: 0.0012\n",
            "Epoch 22/100\n",
            "16/16 [==============================] - 4s 261ms/step - loss: 4.9570e-04 - val_loss: 0.0010\n",
            "Epoch 23/100\n",
            "16/16 [==============================] - 4s 263ms/step - loss: 4.6958e-04 - val_loss: 0.0011\n",
            "Epoch 24/100\n",
            "16/16 [==============================] - 4s 261ms/step - loss: 5.0083e-04 - val_loss: 9.3906e-04\n",
            "Epoch 25/100\n",
            "16/16 [==============================] - 4s 258ms/step - loss: 5.6754e-04 - val_loss: 0.0015\n",
            "Epoch 26/100\n",
            "16/16 [==============================] - 4s 258ms/step - loss: 5.1826e-04 - val_loss: 9.9263e-04\n",
            "Epoch 27/100\n",
            "16/16 [==============================] - 4s 252ms/step - loss: 4.7832e-04 - val_loss: 0.0011\n",
            "Epoch 28/100\n",
            "16/16 [==============================] - 4s 266ms/step - loss: 5.7288e-04 - val_loss: 9.2990e-04\n",
            "Epoch 29/100\n",
            "16/16 [==============================] - 4s 256ms/step - loss: 5.1299e-04 - val_loss: 0.0011\n",
            "Epoch 30/100\n",
            "16/16 [==============================] - 4s 258ms/step - loss: 4.7711e-04 - val_loss: 0.0010\n",
            "Epoch 31/100\n",
            "16/16 [==============================] - 4s 264ms/step - loss: 4.5324e-04 - val_loss: 0.0010\n",
            "Epoch 32/100\n",
            "16/16 [==============================] - 4s 255ms/step - loss: 4.8349e-04 - val_loss: 0.0010\n",
            "Epoch 33/100\n",
            "16/16 [==============================] - 4s 255ms/step - loss: 4.6689e-04 - val_loss: 0.0012\n",
            "Epoch 34/100\n",
            "16/16 [==============================] - 4s 263ms/step - loss: 4.6158e-04 - val_loss: 9.0668e-04\n",
            "Epoch 35/100\n",
            "16/16 [==============================] - 4s 255ms/step - loss: 4.5345e-04 - val_loss: 0.0013\n",
            "Epoch 36/100\n",
            "16/16 [==============================] - 4s 258ms/step - loss: 5.0516e-04 - val_loss: 0.0015\n",
            "Epoch 37/100\n",
            "16/16 [==============================] - 4s 270ms/step - loss: 4.5002e-04 - val_loss: 0.0011\n",
            "Epoch 38/100\n",
            "16/16 [==============================] - 4s 260ms/step - loss: 4.3618e-04 - val_loss: 8.6085e-04\n",
            "Epoch 39/100\n",
            "16/16 [==============================] - 4s 258ms/step - loss: 4.5695e-04 - val_loss: 9.4593e-04\n",
            "Epoch 40/100\n",
            "16/16 [==============================] - 4s 263ms/step - loss: 4.3519e-04 - val_loss: 0.0011\n",
            "Epoch 41/100\n",
            "16/16 [==============================] - 4s 255ms/step - loss: 4.3804e-04 - val_loss: 9.9222e-04\n",
            "Epoch 42/100\n",
            "16/16 [==============================] - 4s 257ms/step - loss: 4.5729e-04 - val_loss: 8.8483e-04\n",
            "Epoch 43/100\n",
            "16/16 [==============================] - 4s 265ms/step - loss: 4.3112e-04 - val_loss: 9.0739e-04\n",
            "Epoch 44/100\n",
            "16/16 [==============================] - 4s 259ms/step - loss: 4.3330e-04 - val_loss: 0.0010\n",
            "Epoch 45/100\n",
            "16/16 [==============================] - 4s 258ms/step - loss: 3.8227e-04 - val_loss: 9.4168e-04\n",
            "Epoch 46/100\n",
            "16/16 [==============================] - 4s 260ms/step - loss: 3.7787e-04 - val_loss: 9.5129e-04\n",
            "Epoch 47/100\n",
            "16/16 [==============================] - 4s 261ms/step - loss: 3.8505e-04 - val_loss: 0.0010\n",
            "Epoch 48/100\n",
            "16/16 [==============================] - 4s 260ms/step - loss: 3.7573e-04 - val_loss: 8.6932e-04\n",
            "Epoch 49/100\n",
            "16/16 [==============================] - 4s 263ms/step - loss: 3.7583e-04 - val_loss: 9.3030e-04\n",
            "Epoch 50/100\n",
            "16/16 [==============================] - 4s 261ms/step - loss: 3.8377e-04 - val_loss: 8.2174e-04\n",
            "Epoch 51/100\n",
            "16/16 [==============================] - 4s 260ms/step - loss: 4.2773e-04 - val_loss: 0.0011\n",
            "Epoch 52/100\n",
            "16/16 [==============================] - 4s 265ms/step - loss: 3.9790e-04 - val_loss: 8.1097e-04\n",
            "Epoch 53/100\n",
            "16/16 [==============================] - 4s 257ms/step - loss: 3.6642e-04 - val_loss: 8.1498e-04\n",
            "Epoch 54/100\n",
            "16/16 [==============================] - 4s 260ms/step - loss: 3.6048e-04 - val_loss: 8.7102e-04\n",
            "Epoch 55/100\n",
            "16/16 [==============================] - 4s 265ms/step - loss: 3.5334e-04 - val_loss: 8.0909e-04\n",
            "Epoch 56/100\n",
            "16/16 [==============================] - 4s 257ms/step - loss: 3.8619e-04 - val_loss: 0.0011\n",
            "Epoch 57/100\n",
            "16/16 [==============================] - 4s 262ms/step - loss: 3.4626e-04 - val_loss: 7.8566e-04\n",
            "Epoch 58/100\n",
            "16/16 [==============================] - 4s 262ms/step - loss: 3.6149e-04 - val_loss: 8.0119e-04\n",
            "Epoch 59/100\n",
            "16/16 [==============================] - 4s 259ms/step - loss: 3.7418e-04 - val_loss: 8.8452e-04\n",
            "Epoch 60/100\n",
            "16/16 [==============================] - 4s 262ms/step - loss: 3.4730e-04 - val_loss: 7.7613e-04\n",
            "Epoch 61/100\n",
            "16/16 [==============================] - 4s 265ms/step - loss: 3.2483e-04 - val_loss: 7.5978e-04\n",
            "Epoch 62/100\n",
            "16/16 [==============================] - 4s 263ms/step - loss: 3.9303e-04 - val_loss: 8.2207e-04\n",
            "Epoch 63/100\n",
            "16/16 [==============================] - 4s 265ms/step - loss: 3.1956e-04 - val_loss: 8.0088e-04\n",
            "Epoch 64/100\n",
            "16/16 [==============================] - 4s 261ms/step - loss: 3.3072e-04 - val_loss: 7.9445e-04\n",
            "Epoch 65/100\n",
            "16/16 [==============================] - 4s 260ms/step - loss: 3.3587e-04 - val_loss: 7.6089e-04\n",
            "Epoch 66/100\n",
            "16/16 [==============================] - 4s 264ms/step - loss: 3.2994e-04 - val_loss: 7.9715e-04\n",
            "Epoch 67/100\n",
            "16/16 [==============================] - 4s 260ms/step - loss: 3.2152e-04 - val_loss: 7.1467e-04\n",
            "Epoch 68/100\n",
            "16/16 [==============================] - 4s 264ms/step - loss: 3.7328e-04 - val_loss: 6.9527e-04\n",
            "Epoch 69/100\n",
            "16/16 [==============================] - 4s 266ms/step - loss: 3.6353e-04 - val_loss: 7.3384e-04\n",
            "Epoch 70/100\n",
            "16/16 [==============================] - 4s 260ms/step - loss: 3.4211e-04 - val_loss: 7.6631e-04\n",
            "Epoch 71/100\n",
            "16/16 [==============================] - 4s 259ms/step - loss: 3.1260e-04 - val_loss: 6.7117e-04\n",
            "Epoch 72/100\n",
            "16/16 [==============================] - 4s 267ms/step - loss: 2.7805e-04 - val_loss: 8.4946e-04\n",
            "Epoch 73/100\n",
            "16/16 [==============================] - 4s 266ms/step - loss: 2.9703e-04 - val_loss: 6.4905e-04\n",
            "Epoch 74/100\n",
            "16/16 [==============================] - 4s 261ms/step - loss: 3.1808e-04 - val_loss: 6.4183e-04\n",
            "Epoch 75/100\n",
            "16/16 [==============================] - 4s 266ms/step - loss: 3.0307e-04 - val_loss: 8.7191e-04\n",
            "Epoch 76/100\n",
            "16/16 [==============================] - 4s 260ms/step - loss: 3.5115e-04 - val_loss: 6.8475e-04\n",
            "Epoch 77/100\n",
            "16/16 [==============================] - 4s 262ms/step - loss: 2.8729e-04 - val_loss: 5.9738e-04\n",
            "Epoch 78/100\n",
            "16/16 [==============================] - 4s 268ms/step - loss: 2.8933e-04 - val_loss: 5.9520e-04\n",
            "Epoch 79/100\n",
            "16/16 [==============================] - 4s 261ms/step - loss: 2.7437e-04 - val_loss: 7.3797e-04\n",
            "Epoch 80/100\n",
            "16/16 [==============================] - 4s 260ms/step - loss: 3.3178e-04 - val_loss: 6.5750e-04\n",
            "Epoch 81/100\n",
            "16/16 [==============================] - 4s 263ms/step - loss: 3.1472e-04 - val_loss: 6.2630e-04\n",
            "Epoch 82/100\n",
            "16/16 [==============================] - 4s 265ms/step - loss: 2.8349e-04 - val_loss: 6.9150e-04\n",
            "Epoch 83/100\n",
            "16/16 [==============================] - 4s 265ms/step - loss: 2.8802e-04 - val_loss: 5.3682e-04\n",
            "Epoch 84/100\n",
            "16/16 [==============================] - 4s 263ms/step - loss: 2.9318e-04 - val_loss: 5.2162e-04\n",
            "Epoch 85/100\n",
            "16/16 [==============================] - 4s 264ms/step - loss: 2.5899e-04 - val_loss: 5.0238e-04\n",
            "Epoch 86/100\n",
            "16/16 [==============================] - 4s 266ms/step - loss: 2.5911e-04 - val_loss: 5.0182e-04\n",
            "Epoch 87/100\n",
            "16/16 [==============================] - 4s 263ms/step - loss: 2.5260e-04 - val_loss: 4.5119e-04\n",
            "Epoch 88/100\n",
            "16/16 [==============================] - 4s 266ms/step - loss: 2.6529e-04 - val_loss: 4.6085e-04\n",
            "Epoch 89/100\n",
            "16/16 [==============================] - 4s 268ms/step - loss: 2.6625e-04 - val_loss: 4.2673e-04\n",
            "Epoch 90/100\n",
            "16/16 [==============================] - 4s 262ms/step - loss: 2.3237e-04 - val_loss: 4.0908e-04\n",
            "Epoch 91/100\n",
            "16/16 [==============================] - 4s 266ms/step - loss: 2.4536e-04 - val_loss: 4.7030e-04\n",
            "Epoch 92/100\n",
            "16/16 [==============================] - 4s 269ms/step - loss: 2.8519e-04 - val_loss: 4.4905e-04\n",
            "Epoch 93/100\n",
            "16/16 [==============================] - 4s 264ms/step - loss: 2.6835e-04 - val_loss: 4.9357e-04\n",
            "Epoch 94/100\n",
            "16/16 [==============================] - 4s 261ms/step - loss: 2.4345e-04 - val_loss: 5.3050e-04\n",
            "Epoch 95/100\n",
            "16/16 [==============================] - 4s 269ms/step - loss: 3.1113e-04 - val_loss: 3.8694e-04\n",
            "Epoch 96/100\n",
            "16/16 [==============================] - 4s 263ms/step - loss: 2.2291e-04 - val_loss: 3.2685e-04\n",
            "Epoch 97/100\n",
            "16/16 [==============================] - 4s 266ms/step - loss: 2.2894e-04 - val_loss: 4.4266e-04\n",
            "Epoch 98/100\n",
            "16/16 [==============================] - 4s 266ms/step - loss: 2.9359e-04 - val_loss: 4.3933e-04\n",
            "Epoch 99/100\n",
            "16/16 [==============================] - 4s 261ms/step - loss: 2.1482e-04 - val_loss: 3.3782e-04\n",
            "Epoch 100/100\n",
            "16/16 [==============================] - 4s 266ms/step - loss: 2.9826e-04 - val_loss: 3.3890e-04\n"
          ],
          "name": "stdout"
        },
        {
          "output_type": "execute_result",
          "data": {
            "text/plain": [
              "<tensorflow.python.keras.callbacks.History at 0x7f1948631fd0>"
            ]
          },
          "metadata": {
            "tags": []
          },
          "execution_count": 15
        }
      ]
    },
    {
      "cell_type": "code",
      "metadata": {
        "id": "OipR__LSCUU0"
      },
      "source": [
        "model.save('nifty_model.h5')"
      ],
      "execution_count": null,
      "outputs": []
    },
    {
      "cell_type": "code",
      "metadata": {
        "id": "Y04lniMT5FK8"
      },
      "source": [
        "# Transformback to original form\n",
        "train_predict=scaler.inverse_transform(train_predict)\n",
        "test_predict=scaler.inverse_transform(test_predict)"
      ],
      "execution_count": null,
      "outputs": []
    },
    {
      "cell_type": "code",
      "metadata": {
        "colab": {
          "base_uri": "https://localhost:8080/"
        },
        "id": "dWIMlNzH5HQ8",
        "outputId": "56d64a7b-d8f4-4517-9731-0eb4a6585838"
      },
      "source": [
        "# Calculate RMSE performance metrics\n",
        "import math\n",
        "from sklearn.metrics import mean_squared_error\n",
        "math.sqrt(mean_squared_error(y_train,train_predict))"
      ],
      "execution_count": null,
      "outputs": [
        {
          "output_type": "execute_result",
          "data": {
            "text/plain": [
              "9849.155721837822"
            ]
          },
          "metadata": {
            "tags": []
          },
          "execution_count": 376
        }
      ]
    },
    {
      "cell_type": "code",
      "metadata": {
        "colab": {
          "base_uri": "https://localhost:8080/"
        },
        "id": "kRhikFPP5Ss2",
        "outputId": "581bbe9a-0153-47f8-a48e-9f7c337eb7f0"
      },
      "source": [
        "# Test Data RMSE\n",
        "math.sqrt(mean_squared_error(y_test,test_predict))"
      ],
      "execution_count": null,
      "outputs": [
        {
          "output_type": "execute_result",
          "data": {
            "text/plain": [
              "10979.407580675288"
            ]
          },
          "metadata": {
            "tags": []
          },
          "execution_count": 377
        }
      ]
    },
    {
      "cell_type": "code",
      "metadata": {
        "colab": {
          "base_uri": "https://localhost:8080/",
          "height": 264
        },
        "id": "D7DHR-FI5XEY",
        "outputId": "acfd119e-6f2d-4f4a-9d01-c3a3440c7ce8"
      },
      "source": [
        "# Plotting \n",
        "from matplotlib import pyplot as plt\n",
        "# shift train predictions for plotting\n",
        "look_back = steps\n",
        "trainPredictPlot = np.empty_like(df1)\n",
        "trainPredictPlot[:, :] = np.nan\n",
        "trainPredictPlot[look_back:len(train_predict)+look_back, :] = train_predict\n",
        "# shift test predictions for plotting\n",
        "testPredictPlot = np.empty_like(df1)\n",
        "testPredictPlot[:, :] = np.nan\n",
        "# testPredictPlot[len(train_predict)+(look_back*2)+1:len(df1)-1, :] = test_predict\n",
        "testPredictPlot[len(train_predict)+(look_back*2)+1:dataset_length-1, :] = test_predict\n",
        "# plot baseline and predictions\n",
        "plt.plot(scaler.inverse_transform(df1))\n",
        "plt.plot(trainPredictPlot)\n",
        "plt.plot(testPredictPlot)\n",
        "plt.show()"
      ],
      "execution_count": null,
      "outputs": [
        {
          "output_type": "display_data",
          "data": {
            "image/png": "[encoded data removed]",
            "text/plain": [
              "<Figure size 432x288 with 1 Axes>"
            ]
          },
          "metadata": {
            "tags": [],
            "needs_background": "light"
          }
        }
      ]
    },
    {
      "cell_type": "code",
      "metadata": {
        "colab": {
          "base_uri": "https://localhost:8080/"
        },
        "id": "4taVnQceDPJJ",
        "outputId": "43f4a430-df41-48de-e6c2-eb14547ef6c2"
      },
      "source": [
        "x_input=test_data[len(test_data)-steps:].reshape(1,-1)\n",
        "x_input.shape"
      ],
      "execution_count": null,
      "outputs": [
        {
          "output_type": "execute_result",
          "data": {
            "text/plain": [
              "(1, 150)"
            ]
          },
          "metadata": {
            "tags": []
          },
          "execution_count": 379
        }
      ]
    },
    {
      "cell_type": "code",
      "metadata": {
        "id": "Psbt3-u4DU39"
      },
      "source": [
        "temp_input=list(x_input)\n",
        "temp_input=temp_input[0].tolist()"
      ],
      "execution_count": null,
      "outputs": []
    },
    {
      "cell_type": "code",
      "metadata": {
        "id": "SlzrxlxHDXek"
      },
      "source": [
        "# demonstrate prediction for next 30 days\n",
        "from numpy import array\n",
        "\n",
        "nod=21\n",
        "lst_output=[]\n",
        "n_steps=150\n",
        "i=0\n",
        "while(i<nod):\n",
        "    \n",
        "    if(len(temp_input)>150):\n",
        "        x_input=np.array(temp_input[1:])\n",
        "        x_input=x_input.reshape(1,-1)\n",
        "        x_input = x_input.reshape((1, n_steps, 1))\n",
        "        yhat = model.predict(x_input, verbose=0)\n",
        "        temp_input.extend(yhat[0].tolist())\n",
        "        temp_input=temp_input[1:]\n",
        "        lst_output.extend(yhat.tolist())\n",
        "        i=i+1\n",
        "    else:\n",
        "        x_input = x_input.reshape((1, n_steps,1))\n",
        "        yhat = model.predict(x_input, verbose=0)\n",
        "        temp_input.extend(yhat[0].tolist())\n",
        "        lst_output.extend(yhat.tolist())\n",
        "        i=i+1\n",
        "    \n",
        "# print(lst_output)"
      ],
      "execution_count": null,
      "outputs": []
    },
    {
      "cell_type": "code",
      "metadata": {
        "id": "qxDDFOePn2gv"
      },
      "source": [
        "day_new=np.arange(1,151)\n",
        "day_pred=np.arange(151,151+nod)"
      ],
      "execution_count": null,
      "outputs": []
    },
    {
      "cell_type": "code",
      "metadata": {
        "colab": {
          "base_uri": "https://localhost:8080/",
          "height": 281
        },
        "id": "xFBPDRQ9qs_h",
        "outputId": "63805fb6-c6e5-450f-edbc-26711729f2ac"
      },
      "source": [
        "plt.plot(day_new,scaler.inverse_transform(df1[dataset_length-150:dataset_length]).flatten())\n",
        "plt.plot(day_pred,scaler.inverse_transform(lst_output))"
      ],
      "execution_count": null,
      "outputs": [
        {
          "output_type": "execute_result",
          "data": {
            "text/plain": [
              "[<matplotlib.lines.Line2D at 0x7efb8f3772d0>]"
            ]
          },
          "metadata": {
            "tags": []
          },
          "execution_count": 383
        },
        {
          "output_type": "display_data",
          "data": {
            "image/png": "[encoded data removed]",
            "text/plain": [
              "<Figure size 432x288 with 1 Axes>"
            ]
          },
          "metadata": {
            "tags": [],
            "needs_background": "light"
          }
        }
      ]
    },
    {
      "cell_type": "code",
      "metadata": {
        "id": "ScJvx5AEq7ex"
      },
      "source": [
        "df3=df1[800:dataset_length].tolist()\n",
        "df3.extend(lst_output)\n",
        "df3=scaler.inverse_transform(df3).tolist()\n",
        "df4=df1[800:dataset_length+20]\n",
        "df4=scaler.inverse_transform(df4)"
      ],
      "execution_count": null,
      "outputs": []
    },
    {
      "cell_type": "code",
      "metadata": {
        "colab": {
          "base_uri": "https://localhost:8080/",
          "height": 281
        },
        "id": "Nf9sJW-oq97_",
        "outputId": "97ccd4bf-01a9-4199-d67b-ed47f5c1a7c2"
      },
      "source": [
        "plt.plot(df3)\n",
        "plt.plot(df4)"
      ],
      "execution_count": null,
      "outputs": [
        {
          "output_type": "execute_result",
          "data": {
            "text/plain": [
              "[<matplotlib.lines.Line2D at 0x7efb8f564790>]"
            ]
          },
          "metadata": {
            "tags": []
          },
          "execution_count": 385
        },
        {
          "output_type": "display_data",
          "data": {
            "image/png": "[encoded data removed]",
            "text/plain": [
              "<Figure size 432x288 with 1 Axes>"
            ]
          },
          "metadata": {
            "tags": [],
            "needs_background": "light"
          }
        }
      ]
    }
  ]
}