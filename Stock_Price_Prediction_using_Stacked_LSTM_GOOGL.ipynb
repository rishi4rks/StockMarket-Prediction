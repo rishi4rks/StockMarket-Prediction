{
  "nbformat": 4,
  "nbformat_minor": 0,
  "metadata": {
    "kernelspec": {
      "display_name": "Python 3",
      "language": "python",
      "name": "python3"
    },
    "language_info": {
      "codemirror_mode": {
        "name": "ipython",
        "version": 3
      },
      "file_extension": ".py",
      "mimetype": "text/x-python",
      "name": "python",
      "nbconvert_exporter": "python",
      "pygments_lexer": "ipython3",
      "version": "3.7.3"
    },
    "colab": {
      "name": "Stock_Price_Prediction_using_Stacked_LSTM_GOOGL.ipynb",
      "provenance": [],
      "collapsed_sections": []
    }
  },
  "cells": [
    {
      "cell_type": "code",
      "metadata": {
        "colab": {
          "resources": {
            "http://localhost:8080/nbextensions/google.colab/files.js": {
              "data": "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",
              "ok": true,
              "headers": [
                [
                  "content-type",
                  "application/javascript"
                ]
              ],
              "status": 200,
              "status_text": ""
            }
          },
          "base_uri": "https://localhost:8080/",
          "height": 72
        },
        "id": "tR2d2UOCQ2FT",
        "outputId": "b4cc8751-356e-462e-fe9e-9e609f4bd7fb"
      },
      "source": [
        "from google.colab import files\n",
        "uploaded = files.upload()"
      ],
      "execution_count": null,
      "outputs": [
        {
          "output_type": "display_data",
          "data": {
            "text/html": [
              "\n",
              "     <input type=\"file\" id=\"files-0ee0ed9d-3aa8-4c6d-ace8-5addfc50fdde\" name=\"files[]\" multiple disabled\n",
              "        style=\"border:none\" />\n",
              "     <output id=\"result-0ee0ed9d-3aa8-4c6d-ace8-5addfc50fdde\">\n",
              "      Upload widget is only available when the cell has been executed in the\n",
              "      current browser session. Please rerun this cell to enable.\n",
              "      </output>\n",
              "      <script src=\"/nbextensions/google.colab/files.js\"></script> "
            ],
            "text/plain": [
              "<IPython.core.display.HTML object>"
            ]
          },
          "metadata": {
            "tags": []
          }
        },
        {
          "output_type": "stream",
          "text": [
            "Saving GOOGL.csv to GOOGL.csv\n"
          ],
          "name": "stdout"
        }
      ]
    },
    {
      "cell_type": "code",
      "metadata": {
        "colab": {
          "base_uri": "https://localhost:8080/",
          "height": 453
        },
        "id": "ICIdcK2tR6u4",
        "outputId": "7c0599cf-2710-42e4-b99b-f70e2e43fa51"
      },
      "source": [
        "import pandas as pd\n",
        "import io\n",
        "df = pd.read_csv(io.BytesIO(uploaded['GOOGL.csv']), index_col='Date', parse_dates=True)\n",
        "df = df.dropna()\n",
        "print('Shape of data', df.shape)\n",
        "df"
      ],
      "execution_count": null,
      "outputs": [
        {
          "output_type": "stream",
          "text": [
            "Shape of data (4114, 6)\n"
          ],
          "name": "stdout"
        },
        {
          "output_type": "execute_result",
          "data": {
            "text/html": [
              "<div>\n",
              "<style scoped>\n",
              "    .dataframe tbody tr th:only-of-type {\n",
              "        vertical-align: middle;\n",
              "    }\n",
              "\n",
              "    .dataframe tbody tr th {\n",
              "        vertical-align: top;\n",
              "    }\n",
              "\n",
              "    .dataframe thead th {\n",
              "        text-align: right;\n",
              "    }\n",
              "</style>\n",
              "<table border=\"1\" class=\"dataframe\">\n",
              "  <thead>\n",
              "    <tr style=\"text-align: right;\">\n",
              "      <th></th>\n",
              "      <th>High</th>\n",
              "      <th>Low</th>\n",
              "      <th>Open</th>\n",
              "      <th>Close</th>\n",
              "      <th>Volume</th>\n",
              "      <th>Adj Close</th>\n",
              "    </tr>\n",
              "    <tr>\n",
              "      <th>Date</th>\n",
              "      <th></th>\n",
              "      <th></th>\n",
              "      <th></th>\n",
              "      <th></th>\n",
              "      <th></th>\n",
              "      <th></th>\n",
              "    </tr>\n",
              "  </thead>\n",
              "  <tbody>\n",
              "    <tr>\n",
              "      <th>2004-08-19</th>\n",
              "      <td>52.082081</td>\n",
              "      <td>48.028027</td>\n",
              "      <td>50.050049</td>\n",
              "      <td>50.220219</td>\n",
              "      <td>44659000.0</td>\n",
              "      <td>50.220219</td>\n",
              "    </tr>\n",
              "    <tr>\n",
              "      <th>2004-08-20</th>\n",
              "      <td>54.594593</td>\n",
              "      <td>50.300301</td>\n",
              "      <td>50.555557</td>\n",
              "      <td>54.209209</td>\n",
              "      <td>22834300.0</td>\n",
              "      <td>54.209209</td>\n",
              "    </tr>\n",
              "    <tr>\n",
              "      <th>2004-08-23</th>\n",
              "      <td>56.796795</td>\n",
              "      <td>54.579578</td>\n",
              "      <td>55.430431</td>\n",
              "      <td>54.754753</td>\n",
              "      <td>18256100.0</td>\n",
              "      <td>54.754753</td>\n",
              "    </tr>\n",
              "    <tr>\n",
              "      <th>2004-08-24</th>\n",
              "      <td>55.855854</td>\n",
              "      <td>51.836838</td>\n",
              "      <td>55.675674</td>\n",
              "      <td>52.487488</td>\n",
              "      <td>15247300.0</td>\n",
              "      <td>52.487488</td>\n",
              "    </tr>\n",
              "    <tr>\n",
              "      <th>2004-08-25</th>\n",
              "      <td>54.054054</td>\n",
              "      <td>51.991993</td>\n",
              "      <td>52.532532</td>\n",
              "      <td>53.053055</td>\n",
              "      <td>9188600.0</td>\n",
              "      <td>53.053055</td>\n",
              "    </tr>\n",
              "    <tr>\n",
              "      <th>...</th>\n",
              "      <td>...</td>\n",
              "      <td>...</td>\n",
              "      <td>...</td>\n",
              "      <td>...</td>\n",
              "      <td>...</td>\n",
              "      <td>...</td>\n",
              "    </tr>\n",
              "    <tr>\n",
              "      <th>2020-12-14</th>\n",
              "      <td>1789.800049</td>\n",
              "      <td>1749.130005</td>\n",
              "      <td>1770.719971</td>\n",
              "      <td>1752.260010</td>\n",
              "      <td>1652500.0</td>\n",
              "      <td>1752.260010</td>\n",
              "    </tr>\n",
              "    <tr>\n",
              "      <th>2020-12-15</th>\n",
              "      <td>1764.000000</td>\n",
              "      <td>1741.670044</td>\n",
              "      <td>1759.859985</td>\n",
              "      <td>1761.079956</td>\n",
              "      <td>1068300.0</td>\n",
              "      <td>1761.079956</td>\n",
              "    </tr>\n",
              "    <tr>\n",
              "      <th>2020-12-16</th>\n",
              "      <td>1769.109985</td>\n",
              "      <td>1749.060059</td>\n",
              "      <td>1769.109985</td>\n",
              "      <td>1757.189941</td>\n",
              "      <td>1233800.0</td>\n",
              "      <td>1757.189941</td>\n",
              "    </tr>\n",
              "    <tr>\n",
              "      <th>2020-12-17</th>\n",
              "      <td>1766.709961</td>\n",
              "      <td>1731.150024</td>\n",
              "      <td>1763.930054</td>\n",
              "      <td>1740.510010</td>\n",
              "      <td>1744000.0</td>\n",
              "      <td>1740.510010</td>\n",
              "    </tr>\n",
              "    <tr>\n",
              "      <th>2020-12-18</th>\n",
              "      <td>1748.359985</td>\n",
              "      <td>1715.000000</td>\n",
              "      <td>1746.170044</td>\n",
              "      <td>1726.219971</td>\n",
              "      <td>4178800.0</td>\n",
              "      <td>1726.219971</td>\n",
              "    </tr>\n",
              "  </tbody>\n",
              "</table>\n",
              "<p>4114 rows × 6 columns</p>\n",
              "</div>"
            ],
            "text/plain": [
              "                   High          Low  ...      Volume    Adj Close\n",
              "Date                                  ...                         \n",
              "2004-08-19    52.082081    48.028027  ...  44659000.0    50.220219\n",
              "2004-08-20    54.594593    50.300301  ...  22834300.0    54.209209\n",
              "2004-08-23    56.796795    54.579578  ...  18256100.0    54.754753\n",
              "2004-08-24    55.855854    51.836838  ...  15247300.0    52.487488\n",
              "2004-08-25    54.054054    51.991993  ...   9188600.0    53.053055\n",
              "...                 ...          ...  ...         ...          ...\n",
              "2020-12-14  1789.800049  1749.130005  ...   1652500.0  1752.260010\n",
              "2020-12-15  1764.000000  1741.670044  ...   1068300.0  1761.079956\n",
              "2020-12-16  1769.109985  1749.060059  ...   1233800.0  1757.189941\n",
              "2020-12-17  1766.709961  1731.150024  ...   1744000.0  1740.510010\n",
              "2020-12-18  1748.359985  1715.000000  ...   4178800.0  1726.219971\n",
              "\n",
              "[4114 rows x 6 columns]"
            ]
          },
          "metadata": {
            "tags": []
          },
          "execution_count": 120
        }
      ]
    },
    {
      "cell_type": "code",
      "metadata": {
        "colab": {
          "base_uri": "https://localhost:8080/"
        },
        "id": "KXsP0HacSCLS",
        "outputId": "923f0066-1fe4-4c56-9e25-c91e5b0d5765"
      },
      "source": [
        "dates = df['Date'][:int(len(df)*.85)]\n",
        "dates "
      ],
      "execution_count": null,
      "outputs": [
        {
          "output_type": "execute_result",
          "data": {
            "text/plain": [
              "0       2004-08-19\n",
              "1       2004-08-20\n",
              "2       2004-08-23\n",
              "3       2004-08-24\n",
              "4       2004-08-25\n",
              "           ...    \n",
              "3491    2018-07-02\n",
              "3492    2018-07-03\n",
              "3493    2018-07-05\n",
              "3494    2018-07-06\n",
              "3495    2018-07-09\n",
              "Name: Date, Length: 3496, dtype: object"
            ]
          },
          "metadata": {
            "tags": []
          },
          "execution_count": 119
        }
      ]
    },
    {
      "cell_type": "code",
      "metadata": {
        "colab": {
          "base_uri": "https://localhost:8080/"
        },
        "id": "SalRo_WWQ2Fb",
        "outputId": "cff43d80-0f50-4d8e-96b2-9c1e784b9282"
      },
      "source": [
        "df1=df.reset_index()['Close']\n",
        "# df1 = df['Close']\n",
        "df1"
      ],
      "execution_count": null,
      "outputs": [
        {
          "output_type": "execute_result",
          "data": {
            "text/plain": [
              "0         50.220219\n",
              "1         54.209209\n",
              "2         54.754753\n",
              "3         52.487488\n",
              "4         53.053055\n",
              "           ...     \n",
              "4109    1752.260010\n",
              "4110    1761.079956\n",
              "4111    1757.189941\n",
              "4112    1740.510010\n",
              "4113    1726.219971\n",
              "Name: Close, Length: 4114, dtype: float64"
            ]
          },
          "metadata": {
            "tags": []
          },
          "execution_count": 3
        }
      ]
    },
    {
      "cell_type": "code",
      "metadata": {
        "colab": {
          "base_uri": "https://localhost:8080/",
          "height": 281
        },
        "id": "ZL9QflatQ2Fb",
        "outputId": "8b020dab-bfe1-44d3-c195-a6e141e2e068"
      },
      "source": [
        "import matplotlib.pyplot as plt\n",
        "plt.plot(df1)\n",
        "# df['Close'].plot(figsize=(12,5))"
      ],
      "execution_count": null,
      "outputs": [
        {
          "output_type": "execute_result",
          "data": {
            "text/plain": [
              "[<matplotlib.lines.Line2D at 0x7f5d3376db10>]"
            ]
          },
          "metadata": {
            "tags": []
          },
          "execution_count": 4
        },
        {
          "output_type": "display_data",
          "data": {
            "image/png": "[encoded data removed]",
            "text/plain": [
              "<Figure size 432x288 with 1 Axes>"
            ]
          },
          "metadata": {
            "tags": [],
            "needs_background": "light"
          }
        }
      ]
    },
    {
      "cell_type": "code",
      "metadata": {
        "id": "WlYlbrLKQ2Fc"
      },
      "source": [
        "import numpy as np "
      ],
      "execution_count": null,
      "outputs": []
    },
    {
      "cell_type": "code",
      "metadata": {
        "id": "LyeaDfqBQ2Fc"
      },
      "source": [
        "from sklearn.preprocessing import MinMaxScaler\n",
        "scaler=MinMaxScaler(feature_range=(0,1))\n",
        "df1=scaler.fit_transform(np.array(df1).reshape(-1,1))"
      ],
      "execution_count": null,
      "outputs": []
    },
    {
      "cell_type": "code",
      "metadata": {
        "colab": {
          "base_uri": "https://localhost:8080/"
        },
        "id": "ndX7_OhQQ2Fd",
        "outputId": "f5cc0ed9-d742-4e80-e701-302cbe5dc4f9"
      },
      "source": [
        "df1"
      ],
      "execution_count": null,
      "outputs": [
        {
          "output_type": "execute_result",
          "data": {
            "text/plain": [
              "array([[9.30551352e-05],\n",
              "       [2.34048161e-03],\n",
              "       [2.64784489e-03],\n",
              "       ...,\n",
              "       [9.61812238e-01],\n",
              "       [9.52414642e-01],\n",
              "       [9.44363530e-01]])"
            ]
          },
          "metadata": {
            "tags": []
          },
          "execution_count": 9
        }
      ]
    },
    {
      "cell_type": "code",
      "metadata": {
        "id": "mq-NXAUFQ2Fd"
      },
      "source": [
        "##splitting dataset into train and test split\n",
        "training_size=int(len(df1)*0.75)\n",
        "# test_size=len(df1)-training_size\n",
        "test_size=int(len(df1)*.1)\n",
        "dataset_length = training_size+test_size\n",
        "train_data,test_data=df1[0:training_size],df1[training_size:dataset_length]"
      ],
      "execution_count": null,
      "outputs": []
    },
    {
      "cell_type": "code",
      "metadata": {
        "colab": {
          "base_uri": "https://localhost:8080/"
        },
        "id": "L5DGupGLQ2Fd",
        "outputId": "9e1b68b9-c0bf-41d2-a874-b06c15d0d6c1"
      },
      "source": [
        "training_size, test_size"
      ],
      "execution_count": null,
      "outputs": [
        {
          "output_type": "execute_result",
          "data": {
            "text/plain": [
              "(3085, 411)"
            ]
          },
          "metadata": {
            "tags": []
          },
          "execution_count": 12
        }
      ]
    },
    {
      "cell_type": "code",
      "metadata": {
        "id": "KCyVxYUtQ2Fe"
      },
      "source": [
        "# convert an array of values into a dataset matrix\n",
        "def create_dataset(dataset, time_step=1):\n",
        "\tdataX, dataY = [], []\n",
        "\tfor i in range(len(dataset)-time_step-1):\n",
        "\t\ta = dataset[i:(i+time_step), 0]   ###i=0, 0,1,2,3-----149   150 \n",
        "\t\tdataX.append(a)\n",
        "\t\tdataY.append(dataset[i + time_step, 0])\n",
        "\treturn np.array(dataX), np.array(dataY)"
      ],
      "execution_count": null,
      "outputs": []
    },
    {
      "cell_type": "code",
      "metadata": {
        "id": "FwztFGVqQ2Fe"
      },
      "source": [
        "# reshape into X=t,t+1,t+2,t+3...t+149 and Y=t+150\n",
        "time_step = 150\n",
        "x_train, y_train = create_dataset(train_data, time_step)\n",
        "x_test, y_test = create_dataset(test_data, time_step)"
      ],
      "execution_count": null,
      "outputs": []
    },
    {
      "cell_type": "code",
      "metadata": {
        "colab": {
          "base_uri": "https://localhost:8080/"
        },
        "id": "XdTnPFcqQ2Fe",
        "outputId": "a9075ea4-d81a-4d72-fc29-2f34b74032d2"
      },
      "source": [
        "print(x_train.shape), print(y_train.shape)"
      ],
      "execution_count": null,
      "outputs": [
        {
          "output_type": "stream",
          "text": [
            "(2934, 150)\n",
            "(2934,)\n"
          ],
          "name": "stdout"
        },
        {
          "output_type": "execute_result",
          "data": {
            "text/plain": [
              "(None, None)"
            ]
          },
          "metadata": {
            "tags": []
          },
          "execution_count": 15
        }
      ]
    },
    {
      "cell_type": "code",
      "metadata": {
        "colab": {
          "base_uri": "https://localhost:8080/"
        },
        "id": "4gtF0DiVQ2Fe",
        "outputId": "af0b8615-7e1d-4e47-f4ed-25565b2a6cbb"
      },
      "source": [
        "print(x_test.shape), print(y_test.shape)"
      ],
      "execution_count": null,
      "outputs": [
        {
          "output_type": "stream",
          "text": [
            "(260, 150)\n",
            "(260,)\n"
          ],
          "name": "stdout"
        },
        {
          "output_type": "execute_result",
          "data": {
            "text/plain": [
              "(None, None)"
            ]
          },
          "metadata": {
            "tags": []
          },
          "execution_count": 16
        }
      ]
    },
    {
      "cell_type": "code",
      "metadata": {
        "id": "mVLN7SA_Q2Ff"
      },
      "source": [
        "import tensorflow as tf"
      ],
      "execution_count": null,
      "outputs": []
    },
    {
      "cell_type": "code",
      "metadata": {
        "id": "F4t_5JujQ2Ff"
      },
      "source": [
        "# reshape input to be [samples, time steps, features] which is required for LSTM\n",
        "x_train =x_train.reshape(x_train.shape[0],x_train.shape[1] , 1)\n",
        "x_test = x_test.reshape(x_test.shape[0],x_test.shape[1] , 1)"
      ],
      "execution_count": null,
      "outputs": []
    },
    {
      "cell_type": "code",
      "metadata": {
        "id": "r79w9mjiQ2Ff",
        "colab": {
          "base_uri": "https://localhost:8080/"
        },
        "outputId": "fbb7b173-a227-46c4-96a3-7e02b8951c29"
      },
      "source": [
        "### Create the Stacked LSTM model\n",
        "from tensorflow.keras.models import Sequential\n",
        "from tensorflow.keras.layers import Dense\n",
        "from tensorflow.keras.layers import LSTM\n",
        "model=Sequential()\n",
        "model.add(LSTM(50,return_sequences=True,input_shape=(150,1)))\n",
        "model.add(LSTM(50,return_sequences=True))\n",
        "model.add(LSTM(50))\n",
        "model.add(Dense(1))\n",
        "model.compile(loss='mean_squared_error',optimizer='adam')\n",
        "model.summary()"
      ],
      "execution_count": null,
      "outputs": [
        {
          "output_type": "stream",
          "text": [
            "Model: \"sequential_2\"\n",
            "_________________________________________________________________\n",
            "Layer (type)                 Output Shape              Param #   \n",
            "=================================================================\n",
            "lstm_6 (LSTM)                (None, 150, 50)           10400     \n",
            "_________________________________________________________________\n",
            "lstm_7 (LSTM)                (None, 150, 50)           20200     \n",
            "_________________________________________________________________\n",
            "lstm_8 (LSTM)                (None, 50)                20200     \n",
            "_________________________________________________________________\n",
            "dense_2 (Dense)              (None, 1)                 51        \n",
            "=================================================================\n",
            "Total params: 50,851\n",
            "Trainable params: 50,851\n",
            "Non-trainable params: 0\n",
            "_________________________________________________________________\n"
          ],
          "name": "stdout"
        }
      ]
    },
    {
      "cell_type": "code",
      "metadata": {
        "colab": {
          "base_uri": "https://localhost:8080/"
        },
        "id": "iQA8R217Q2Fg",
        "outputId": "a62628ea-90b6-4a73-a1a5-3599ab536e43"
      },
      "source": [
        "model.fit(x_train,y_train,validation_data=(x_test,y_test),epochs=100,batch_size=64,verbose=1)"
      ],
      "execution_count": null,
      "outputs": [
        {
          "output_type": "stream",
          "text": [
            "Epoch 1/100\n",
            "46/46 [==============================] - 18s 278ms/step - loss: 0.0030 - val_loss: 5.0268e-04\n",
            "Epoch 2/100\n",
            "46/46 [==============================] - 11s 246ms/step - loss: 1.2124e-04 - val_loss: 5.4425e-04\n",
            "Epoch 3/100\n",
            "46/46 [==============================] - 12s 250ms/step - loss: 1.1235e-04 - val_loss: 5.5825e-04\n",
            "Epoch 4/100\n",
            "46/46 [==============================] - 11s 249ms/step - loss: 1.0970e-04 - val_loss: 6.3440e-04\n",
            "Epoch 5/100\n",
            "46/46 [==============================] - 11s 250ms/step - loss: 1.0853e-04 - val_loss: 4.7281e-04\n",
            "Epoch 6/100\n",
            "46/46 [==============================] - 11s 250ms/step - loss: 1.0326e-04 - val_loss: 4.5900e-04\n",
            "Epoch 7/100\n",
            "46/46 [==============================] - 11s 249ms/step - loss: 1.0204e-04 - val_loss: 6.2670e-04\n",
            "Epoch 8/100\n",
            "46/46 [==============================] - 12s 251ms/step - loss: 9.9759e-05 - val_loss: 5.0799e-04\n",
            "Epoch 9/100\n",
            "46/46 [==============================] - 12s 251ms/step - loss: 1.0668e-04 - val_loss: 5.3457e-04\n",
            "Epoch 10/100\n",
            "46/46 [==============================] - 12s 254ms/step - loss: 9.6698e-05 - val_loss: 4.8462e-04\n",
            "Epoch 11/100\n",
            "46/46 [==============================] - 11s 249ms/step - loss: 9.3435e-05 - val_loss: 5.0739e-04\n",
            "Epoch 12/100\n",
            "46/46 [==============================] - 11s 249ms/step - loss: 9.3299e-05 - val_loss: 4.8262e-04\n",
            "Epoch 13/100\n",
            "46/46 [==============================] - 11s 248ms/step - loss: 9.0761e-05 - val_loss: 4.3688e-04\n",
            "Epoch 14/100\n",
            "46/46 [==============================] - 12s 251ms/step - loss: 9.5273e-05 - val_loss: 7.8358e-04\n",
            "Epoch 15/100\n",
            "46/46 [==============================] - 11s 249ms/step - loss: 8.9571e-05 - val_loss: 5.3955e-04\n",
            "Epoch 16/100\n",
            "46/46 [==============================] - 11s 249ms/step - loss: 8.8276e-05 - val_loss: 4.4412e-04\n",
            "Epoch 17/100\n",
            "46/46 [==============================] - 12s 252ms/step - loss: 8.0256e-05 - val_loss: 4.8485e-04\n",
            "Epoch 18/100\n",
            "46/46 [==============================] - 12s 250ms/step - loss: 7.6710e-05 - val_loss: 4.0743e-04\n",
            "Epoch 19/100\n",
            "46/46 [==============================] - 12s 251ms/step - loss: 7.8588e-05 - val_loss: 4.0743e-04\n",
            "Epoch 20/100\n",
            "46/46 [==============================] - 12s 252ms/step - loss: 8.5118e-05 - val_loss: 4.9292e-04\n",
            "Epoch 21/100\n",
            "46/46 [==============================] - 12s 251ms/step - loss: 8.2675e-05 - val_loss: 4.2677e-04\n",
            "Epoch 22/100\n",
            "46/46 [==============================] - 11s 248ms/step - loss: 7.3860e-05 - val_loss: 3.9900e-04\n",
            "Epoch 23/100\n",
            "46/46 [==============================] - 11s 250ms/step - loss: 7.2737e-05 - val_loss: 8.7804e-04\n",
            "Epoch 24/100\n",
            "46/46 [==============================] - 12s 252ms/step - loss: 6.8382e-05 - val_loss: 4.0821e-04\n",
            "Epoch 25/100\n",
            "46/46 [==============================] - 12s 250ms/step - loss: 6.7196e-05 - val_loss: 6.7390e-04\n",
            "Epoch 26/100\n",
            "46/46 [==============================] - 12s 253ms/step - loss: 7.9262e-05 - val_loss: 4.1345e-04\n",
            "Epoch 27/100\n",
            "46/46 [==============================] - 11s 247ms/step - loss: 7.4951e-05 - val_loss: 5.1749e-04\n",
            "Epoch 28/100\n",
            "46/46 [==============================] - 11s 249ms/step - loss: 6.2403e-05 - val_loss: 5.1272e-04\n",
            "Epoch 29/100\n",
            "46/46 [==============================] - 11s 250ms/step - loss: 6.4058e-05 - val_loss: 3.6064e-04\n",
            "Epoch 30/100\n",
            "46/46 [==============================] - 12s 251ms/step - loss: 6.4055e-05 - val_loss: 5.2663e-04\n",
            "Epoch 31/100\n",
            "46/46 [==============================] - 12s 250ms/step - loss: 6.2784e-05 - val_loss: 4.4235e-04\n",
            "Epoch 32/100\n",
            "46/46 [==============================] - 11s 248ms/step - loss: 6.0393e-05 - val_loss: 4.1441e-04\n",
            "Epoch 33/100\n",
            "46/46 [==============================] - 11s 246ms/step - loss: 5.9261e-05 - val_loss: 4.5140e-04\n",
            "Epoch 34/100\n",
            "46/46 [==============================] - 11s 249ms/step - loss: 6.7702e-05 - val_loss: 3.3210e-04\n",
            "Epoch 35/100\n",
            "46/46 [==============================] - 11s 247ms/step - loss: 5.9936e-05 - val_loss: 3.8377e-04\n",
            "Epoch 36/100\n",
            "46/46 [==============================] - 11s 247ms/step - loss: 5.9015e-05 - val_loss: 6.9794e-04\n",
            "Epoch 37/100\n",
            "46/46 [==============================] - 11s 249ms/step - loss: 6.7189e-05 - val_loss: 4.0347e-04\n",
            "Epoch 38/100\n",
            "46/46 [==============================] - 11s 248ms/step - loss: 5.5889e-05 - val_loss: 3.0626e-04\n",
            "Epoch 39/100\n",
            "46/46 [==============================] - 11s 249ms/step - loss: 5.3174e-05 - val_loss: 3.6331e-04\n",
            "Epoch 40/100\n",
            "46/46 [==============================] - 11s 250ms/step - loss: 5.3556e-05 - val_loss: 2.9593e-04\n",
            "Epoch 41/100\n",
            "46/46 [==============================] - 12s 252ms/step - loss: 6.4827e-05 - val_loss: 2.8893e-04\n",
            "Epoch 42/100\n",
            "46/46 [==============================] - 11s 248ms/step - loss: 5.8424e-05 - val_loss: 3.2470e-04\n",
            "Epoch 43/100\n",
            "46/46 [==============================] - 11s 248ms/step - loss: 5.2292e-05 - val_loss: 4.1494e-04\n",
            "Epoch 44/100\n",
            "46/46 [==============================] - 11s 248ms/step - loss: 4.9550e-05 - val_loss: 3.4564e-04\n",
            "Epoch 45/100\n",
            "46/46 [==============================] - 11s 250ms/step - loss: 5.3005e-05 - val_loss: 2.6133e-04\n",
            "Epoch 46/100\n",
            "46/46 [==============================] - 11s 250ms/step - loss: 5.2372e-05 - val_loss: 3.7690e-04\n",
            "Epoch 47/100\n",
            "46/46 [==============================] - 12s 250ms/step - loss: 5.4953e-05 - val_loss: 2.8948e-04\n",
            "Epoch 48/100\n",
            "46/46 [==============================] - 11s 249ms/step - loss: 4.6553e-05 - val_loss: 5.0177e-04\n",
            "Epoch 49/100\n",
            "46/46 [==============================] - 11s 249ms/step - loss: 5.4498e-05 - val_loss: 2.9025e-04\n",
            "Epoch 50/100\n",
            "46/46 [==============================] - 11s 249ms/step - loss: 5.4332e-05 - val_loss: 4.6040e-04\n",
            "Epoch 51/100\n",
            "46/46 [==============================] - 11s 250ms/step - loss: 4.8214e-05 - val_loss: 3.0402e-04\n",
            "Epoch 52/100\n",
            "46/46 [==============================] - 11s 250ms/step - loss: 4.9410e-05 - val_loss: 2.9447e-04\n",
            "Epoch 53/100\n",
            "46/46 [==============================] - 12s 253ms/step - loss: 4.5795e-05 - val_loss: 3.2063e-04\n",
            "Epoch 54/100\n",
            "46/46 [==============================] - 11s 249ms/step - loss: 4.2012e-05 - val_loss: 2.3011e-04\n",
            "Epoch 55/100\n",
            "46/46 [==============================] - 12s 252ms/step - loss: 4.3823e-05 - val_loss: 3.1493e-04\n",
            "Epoch 56/100\n",
            "46/46 [==============================] - 11s 249ms/step - loss: 5.0805e-05 - val_loss: 2.4138e-04\n",
            "Epoch 57/100\n",
            "46/46 [==============================] - 12s 251ms/step - loss: 5.1813e-05 - val_loss: 1.9722e-04\n",
            "Epoch 58/100\n",
            "46/46 [==============================] - 12s 252ms/step - loss: 5.0852e-05 - val_loss: 1.7266e-04\n",
            "Epoch 59/100\n",
            "46/46 [==============================] - 12s 251ms/step - loss: 3.8871e-05 - val_loss: 3.2293e-04\n",
            "Epoch 60/100\n",
            "46/46 [==============================] - 12s 253ms/step - loss: 3.8235e-05 - val_loss: 2.2329e-04\n",
            "Epoch 61/100\n",
            "46/46 [==============================] - 11s 248ms/step - loss: 3.7873e-05 - val_loss: 1.5873e-04\n",
            "Epoch 62/100\n",
            "46/46 [==============================] - 12s 251ms/step - loss: 3.6664e-05 - val_loss: 2.1488e-04\n",
            "Epoch 63/100\n",
            "46/46 [==============================] - 12s 253ms/step - loss: 4.7939e-05 - val_loss: 2.7906e-04\n",
            "Epoch 64/100\n",
            "46/46 [==============================] - 12s 251ms/step - loss: 4.4117e-05 - val_loss: 1.3929e-04\n",
            "Epoch 65/100\n",
            "46/46 [==============================] - 11s 249ms/step - loss: 3.4555e-05 - val_loss: 1.5571e-04\n",
            "Epoch 66/100\n",
            "46/46 [==============================] - 11s 250ms/step - loss: 3.5131e-05 - val_loss: 1.6855e-04\n",
            "Epoch 67/100\n",
            "46/46 [==============================] - 11s 250ms/step - loss: 4.3203e-05 - val_loss: 1.8141e-04\n",
            "Epoch 68/100\n",
            "46/46 [==============================] - 11s 248ms/step - loss: 3.4490e-05 - val_loss: 1.3251e-04\n",
            "Epoch 69/100\n",
            "46/46 [==============================] - 11s 249ms/step - loss: 3.7722e-05 - val_loss: 1.1874e-04\n",
            "Epoch 70/100\n",
            "46/46 [==============================] - 11s 248ms/step - loss: 3.5628e-05 - val_loss: 1.9599e-04\n",
            "Epoch 71/100\n",
            "46/46 [==============================] - 11s 250ms/step - loss: 3.3102e-05 - val_loss: 1.1914e-04\n",
            "Epoch 72/100\n",
            "46/46 [==============================] - 11s 249ms/step - loss: 3.0374e-05 - val_loss: 2.0416e-04\n",
            "Epoch 73/100\n",
            "46/46 [==============================] - 12s 251ms/step - loss: 3.5005e-05 - val_loss: 2.4500e-04\n",
            "Epoch 74/100\n",
            "46/46 [==============================] - 11s 250ms/step - loss: 2.9765e-05 - val_loss: 2.4910e-04\n",
            "Epoch 75/100\n",
            "46/46 [==============================] - 11s 249ms/step - loss: 3.2543e-05 - val_loss: 1.4283e-04\n",
            "Epoch 76/100\n",
            "46/46 [==============================] - 11s 248ms/step - loss: 3.7057e-05 - val_loss: 1.0039e-04\n",
            "Epoch 77/100\n",
            "46/46 [==============================] - 11s 249ms/step - loss: 2.9131e-05 - val_loss: 2.2176e-04\n",
            "Epoch 78/100\n",
            "46/46 [==============================] - 11s 249ms/step - loss: 2.7818e-05 - val_loss: 1.1028e-04\n",
            "Epoch 79/100\n",
            "46/46 [==============================] - 11s 249ms/step - loss: 2.9948e-05 - val_loss: 1.0992e-04\n",
            "Epoch 80/100\n",
            "46/46 [==============================] - 12s 250ms/step - loss: 3.0299e-05 - val_loss: 9.2795e-05\n",
            "Epoch 81/100\n",
            "46/46 [==============================] - 12s 251ms/step - loss: 2.7714e-05 - val_loss: 9.7101e-05\n",
            "Epoch 82/100\n",
            "46/46 [==============================] - 11s 249ms/step - loss: 2.9386e-05 - val_loss: 1.8827e-04\n",
            "Epoch 83/100\n",
            "46/46 [==============================] - 11s 249ms/step - loss: 2.7655e-05 - val_loss: 1.4663e-04\n",
            "Epoch 84/100\n",
            "46/46 [==============================] - 12s 252ms/step - loss: 2.8349e-05 - val_loss: 8.8205e-05\n",
            "Epoch 85/100\n",
            "46/46 [==============================] - 12s 251ms/step - loss: 2.8801e-05 - val_loss: 9.6099e-05\n",
            "Epoch 86/100\n",
            "46/46 [==============================] - 12s 250ms/step - loss: 2.7688e-05 - val_loss: 1.1507e-04\n",
            "Epoch 87/100\n",
            "46/46 [==============================] - 11s 250ms/step - loss: 2.9665e-05 - val_loss: 8.9968e-05\n",
            "Epoch 88/100\n",
            "46/46 [==============================] - 12s 252ms/step - loss: 2.4607e-05 - val_loss: 1.0250e-04\n",
            "Epoch 89/100\n",
            "46/46 [==============================] - 11s 250ms/step - loss: 2.5026e-05 - val_loss: 1.1097e-04\n",
            "Epoch 90/100\n",
            "46/46 [==============================] - 11s 249ms/step - loss: 2.2451e-05 - val_loss: 1.0418e-04\n",
            "Epoch 91/100\n",
            "46/46 [==============================] - 11s 249ms/step - loss: 2.2303e-05 - val_loss: 1.2525e-04\n",
            "Epoch 92/100\n",
            "46/46 [==============================] - 11s 249ms/step - loss: 2.5676e-05 - val_loss: 8.6398e-05\n",
            "Epoch 93/100\n",
            "46/46 [==============================] - 11s 249ms/step - loss: 2.8466e-05 - val_loss: 1.3372e-04\n",
            "Epoch 94/100\n",
            "46/46 [==============================] - 12s 251ms/step - loss: 2.3173e-05 - val_loss: 7.9391e-05\n",
            "Epoch 95/100\n",
            "46/46 [==============================] - 11s 250ms/step - loss: 2.4143e-05 - val_loss: 1.2160e-04\n",
            "Epoch 96/100\n",
            "46/46 [==============================] - 11s 250ms/step - loss: 2.3826e-05 - val_loss: 1.2048e-04\n",
            "Epoch 97/100\n",
            "46/46 [==============================] - 11s 249ms/step - loss: 2.6623e-05 - val_loss: 8.2911e-05\n",
            "Epoch 98/100\n",
            "46/46 [==============================] - 11s 250ms/step - loss: 2.1511e-05 - val_loss: 8.6161e-05\n",
            "Epoch 99/100\n",
            "46/46 [==============================] - 12s 250ms/step - loss: 2.1128e-05 - val_loss: 8.3613e-05\n",
            "Epoch 100/100\n",
            "46/46 [==============================] - 11s 249ms/step - loss: 2.1497e-05 - val_loss: 1.4852e-04\n"
          ],
          "name": "stdout"
        },
        {
          "output_type": "execute_result",
          "data": {
            "text/plain": [
              "<tensorflow.python.keras.callbacks.History at 0x7f5cde80a510>"
            ]
          },
          "metadata": {
            "tags": []
          },
          "execution_count": 25
        }
      ]
    },
    {
      "cell_type": "code",
      "metadata": {
        "id": "S47QAzksQ2Fg"
      },
      "source": [
        "### Lets Do the prediction and check performance metrics\n",
        "train_predict=model.predict(x_train)\n",
        "test_predict=model.predict(x_test)"
      ],
      "execution_count": null,
      "outputs": []
    },
    {
      "cell_type": "code",
      "metadata": {
        "id": "FL3iR3HqQ2Fh"
      },
      "source": [
        "##Transformback to original form\n",
        "train_predict=scaler.inverse_transform(train_predict)\n",
        "test_predict=scaler.inverse_transform(test_predict)"
      ],
      "execution_count": null,
      "outputs": []
    },
    {
      "cell_type": "code",
      "metadata": {
        "colab": {
          "base_uri": "https://localhost:8080/"
        },
        "id": "krkYRIdyQ2Fh",
        "outputId": "3244b3d0-6097-473e-9a21-968fa3563957"
      },
      "source": [
        "### Calculate RMSE performance metrics\n",
        "import math\n",
        "from sklearn.metrics import mean_squared_error\n",
        "math.sqrt(mean_squared_error(y_train,train_predict))"
      ],
      "execution_count": null,
      "outputs": [
        {
          "output_type": "execute_result",
          "data": {
            "text/plain": [
              "401.3826632289421"
            ]
          },
          "metadata": {
            "tags": []
          },
          "execution_count": 96
        }
      ]
    },
    {
      "cell_type": "code",
      "metadata": {
        "colab": {
          "base_uri": "https://localhost:8080/"
        },
        "id": "86mMhJ-dQ2Fh",
        "outputId": "8f5e72ea-a67e-44e3-e843-d8cb55ac9463"
      },
      "source": [
        "### Test Data RMSE\n",
        "math.sqrt(mean_squared_error(y_test,test_predict))"
      ],
      "execution_count": null,
      "outputs": [
        {
          "output_type": "execute_result",
          "data": {
            "text/plain": [
              "1030.6951913035693"
            ]
          },
          "metadata": {
            "tags": []
          },
          "execution_count": 97
        }
      ]
    },
    {
      "cell_type": "code",
      "metadata": {
        "colab": {
          "base_uri": "https://localhost:8080/",
          "height": 264
        },
        "id": "8gsVyAAOQ2Fh",
        "outputId": "e65eb1bf-53f4-45b8-b2e6-8456728f12b5"
      },
      "source": [
        "### Plotting \n",
        "# shift train predictions for plotting\n",
        "look_back=150\n",
        "trainPredictPlot = np.empty_like(df1)\n",
        "trainPredictPlot[:, :] = np.nan\n",
        "trainPredictPlot[look_back:len(train_predict)+look_back, :] = train_predict\n",
        "# shift test predictions for plotting\n",
        "testPredictPlot = np.empty_like(df1)\n",
        "testPredictPlot[:, :] = np.nan\n",
        "# testPredictPlot[len(train_predict)+(look_back*2)+1:len(df1)-1, :] = test_predict\n",
        "testPredictPlot[len(train_predict)+(look_back*2)+1:dataset_length-1, :] = test_predict\n",
        "# plot baseline and predictions\n",
        "plt.plot(scaler.inverse_transform(df1))\n",
        "plt.plot(trainPredictPlot)\n",
        "plt.plot(testPredictPlot)\n",
        "plt.show()"
      ],
      "execution_count": null,
      "outputs": [
        {
          "output_type": "display_data",
          "data": {
            "image/png": "[encoded data removed]",
            "text/plain": [
              "<Figure size 432x288 with 1 Axes>"
            ]
          },
          "metadata": {
            "tags": [],
            "needs_background": "light"
          }
        }
      ]
    },
    {
      "cell_type": "code",
      "metadata": {
        "colab": {
          "base_uri": "https://localhost:8080/"
        },
        "id": "z1MxOatfQ2Fi",
        "outputId": "c8e85983-6896-4640-822a-1cdc7386262f"
      },
      "source": [
        "x_input=test_data[len(test_data)-150:].reshape(1,-1)\n",
        "x_input.shape"
      ],
      "execution_count": null,
      "outputs": [
        {
          "output_type": "execute_result",
          "data": {
            "text/plain": [
              "(1, 150)"
            ]
          },
          "metadata": {
            "tags": []
          },
          "execution_count": 99
        }
      ]
    },
    {
      "cell_type": "code",
      "metadata": {
        "id": "l_7ho1VjQ2Fi"
      },
      "source": [
        "temp_input=list(x_input)\n",
        "temp_input=temp_input[0].tolist()"
      ],
      "execution_count": null,
      "outputs": []
    },
    {
      "cell_type": "code",
      "metadata": {
        "colab": {
          "base_uri": "https://localhost:8080/"
        },
        "id": "tBN908F3Q2Fi",
        "outputId": "48c8051f-dfb7-4f1b-e8d1-6888bfc38ec7"
      },
      "source": [
        "# demonstrate prediction for next 30 days\n",
        "from numpy import array\n",
        "\n",
        "nod=60\n",
        "lst_output=[]\n",
        "n_steps=150\n",
        "i=0\n",
        "while(i<nod):\n",
        "    \n",
        "    if(len(temp_input)>150):\n",
        "        #print(temp_input)\n",
        "        x_input=np.array(temp_input[1:])\n",
        "        # print(\"{} day input {}\".format(i,x_input))\n",
        "        x_input=x_input.reshape(1,-1)\n",
        "        x_input = x_input.reshape((1, n_steps, 1))\n",
        "        #print(x_input)\n",
        "        yhat = model.predict(x_input, verbose=0)\n",
        "        # print(\"{} day output {}\".format(i,yhat))\n",
        "        temp_input.extend(yhat[0].tolist())\n",
        "        temp_input=temp_input[1:]\n",
        "        #print(temp_input)\n",
        "        lst_output.extend(yhat.tolist())\n",
        "        i=i+1\n",
        "    else:\n",
        "        x_input = x_input.reshape((1, n_steps,1))\n",
        "        yhat = model.predict(x_input, verbose=0)\n",
        "        # print(yhat[0])\n",
        "        temp_input.extend(yhat[0].tolist())\n",
        "        # print(len(temp_input))\n",
        "        lst_output.extend(yhat.tolist())\n",
        "        i=i+1\n",
        "    \n",
        "\n",
        "print(lst_output)"
      ],
      "execution_count": null,
      "outputs": [
        {
          "output_type": "stream",
          "text": [
            "[[0.6195020079612732], [0.6105606555938721], [0.5976749062538147], [0.5862225294113159], [0.5773483514785767], [0.5708429217338562], [0.5660563707351685], [0.5622290372848511], [0.5586962103843689], [0.555002748966217], [0.5509299635887146], [0.5464586615562439], [0.5416991114616394], [0.5368171334266663], [0.5319746732711792], [0.5272924900054932], [0.5228376984596252], [0.5186275243759155], [0.5146439075469971], [0.510850191116333], [0.5072048902511597], [0.503672182559967], [0.5002260804176331], [0.4968510866165161], [0.49354061484336853], [0.49029341340065], [0.48711082339286804], [0.4839940369129181], [0.4809434115886688], [0.4779568314552307], [0.47503089904785156], [0.47216081619262695], [0.4693414270877838], [0.46656760573387146], [0.4638349115848541], [0.4611393213272095], [0.4584779739379883], [0.45584821701049805], [0.45324814319610596], [0.4506765604019165], [0.4481320381164551], [0.44561347365379333], [0.4431198537349701], [0.4406503140926361], [0.4382038712501526], [0.4357799291610718], [0.43337762355804443], [0.4309963285923004], [0.42863547801971436], [0.42629480361938477], [0.42397361993789673], [0.42167165875434875], [0.4193887710571289], [0.417124480009079], [0.4148785471916199], [0.41265079379081726], [0.4104408025741577], [0.4082483649253845], [0.40607333183288574], [0.40391531586647034]]\n"
          ],
          "name": "stdout"
        }
      ]
    },
    {
      "cell_type": "code",
      "metadata": {
        "id": "2PEefxqOQ2Fj"
      },
      "source": [
        "day_new=np.arange(1,151)\n",
        "day_pred=np.arange(151,151+nod)"
      ],
      "execution_count": null,
      "outputs": []
    },
    {
      "cell_type": "code",
      "metadata": {
        "colab": {
          "base_uri": "https://localhost:8080/"
        },
        "id": "o7WlNJCdZQwk",
        "outputId": "cc45b895-26da-4be6-9e49-cba9b8202b54"
      },
      "source": [
        "# len(scaler.inverse_transform(df1[4014:]).flatten())\n",
        "len(day_pred)"
      ],
      "execution_count": null,
      "outputs": [
        {
          "output_type": "execute_result",
          "data": {
            "text/plain": [
              "60"
            ]
          },
          "metadata": {
            "tags": []
          },
          "execution_count": 89
        }
      ]
    },
    {
      "cell_type": "code",
      "metadata": {
        "id": "ZW72UY26Q2Fj"
      },
      "source": [
        "import matplotlib.pyplot as plt"
      ],
      "execution_count": null,
      "outputs": []
    },
    {
      "cell_type": "code",
      "metadata": {
        "colab": {
          "base_uri": "https://localhost:8080/"
        },
        "id": "0zZGlb7DQ2Fj",
        "outputId": "cd543f91-c966-49e6-a318-741335e54c8d"
      },
      "source": [
        "# scaler.inverse_transform(lst_output)\n",
        "dataset_length"
      ],
      "execution_count": null,
      "outputs": [
        {
          "output_type": "execute_result",
          "data": {
            "text/plain": [
              "3496"
            ]
          },
          "metadata": {
            "tags": []
          },
          "execution_count": 104
        }
      ]
    },
    {
      "cell_type": "code",
      "metadata": {
        "colab": {
          "base_uri": "https://localhost:8080/",
          "height": 281
        },
        "id": "CDWv3QOSQ2Fj",
        "outputId": "f661332b-155d-4093-dddb-1631bda41d31"
      },
      "source": [
        "plt.plot(day_new,scaler.inverse_transform(df1[dataset_length-150:dataset_length]).flatten())\n",
        "plt.plot(day_pred,scaler.inverse_transform(lst_output))"
      ],
      "execution_count": null,
      "outputs": [
        {
          "output_type": "execute_result",
          "data": {
            "text/plain": [
              "[<matplotlib.lines.Line2D at 0x7f5cd9225fd0>]"
            ]
          },
          "metadata": {
            "tags": []
          },
          "execution_count": 105
        },
        {
          "output_type": "display_data",
          "data": {
            "image/png": "[encoded data removed]",
            "text/plain": [
              "<Figure size 432x288 with 1 Axes>"
            ]
          },
          "metadata": {
            "tags": [],
            "needs_background": "light"
          }
        }
      ]
    },
    {
      "cell_type": "code",
      "metadata": {
        "id": "TdSiv0tKQ2Fj"
      },
      "source": [
        "df3=df1[:dataset_length].tolist()\n",
        "df3.extend(lst_output)\n",
        "# plt.plot(df3[500:])\n",
        "df3=scaler.inverse_transform(df3).tolist()\n",
        "df4=df1[:dataset_length+100]\n",
        "df4=scaler.inverse_transform(df4)"
      ],
      "execution_count": null,
      "outputs": []
    },
    {
      "cell_type": "code",
      "metadata": {
        "colab": {
          "base_uri": "https://localhost:8080/",
          "height": 281
        },
        "id": "hAf1QykNQ2Fj",
        "outputId": "1e83fdd7-3ece-4ec2-c63b-124383717ab5"
      },
      "source": [
        "plt.plot(df3)\n",
        "plt.plot(df4) # actual - orange"
      ],
      "execution_count": null,
      "outputs": [
        {
          "output_type": "execute_result",
          "data": {
            "text/plain": [
              "[<matplotlib.lines.Line2D at 0x7f5cd9a2c290>]"
            ]
          },
          "metadata": {
            "tags": []
          },
          "execution_count": 107
        },
        {
          "output_type": "display_data",
          "data": {
            "image/png": "[encoded data removed]",
            "text/plain": [
              "<Figure size 432x288 with 1 Axes>"
            ]
          },
          "metadata": {
            "tags": [],
            "needs_background": "light"
          }
        }
      ]
    },
    {
      "cell_type": "code",
      "metadata": {
        "id": "7y2CR50gqLeg"
      },
      "source": [
        "# df4=scaler.inverse_transform(lst_output)\n",
        "# df4[-1]"
      ],
      "execution_count": null,
      "outputs": []
    }
  ]
}