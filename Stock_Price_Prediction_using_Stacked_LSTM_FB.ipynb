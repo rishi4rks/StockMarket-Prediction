{
  "nbformat": 4,
  "nbformat_minor": 0,
  "metadata": {
    "kernelspec": {
      "display_name": "Python 3",
      "language": "python",
      "name": "python3"
    },
    "language_info": {
      "codemirror_mode": {
        "name": "ipython",
        "version": 3
      },
      "file_extension": ".py",
      "mimetype": "text/x-python",
      "name": "python",
      "nbconvert_exporter": "python",
      "pygments_lexer": "ipython3",
      "version": "3.7.3"
    },
    "colab": {
      "name": "Stock Price Prediction using Stacked LSTM-FB.ipynb",
      "provenance": [],
      "collapsed_sections": []
    }
  },
  "cells": [
    {
      "cell_type": "code",
      "metadata": {
        "colab": {
          "resources": {
            "http://localhost:8080/nbextensions/google.colab/files.js": {
              "data": "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",
              "ok": true,
              "headers": [
                [
                  "content-type",
                  "application/javascript"
                ]
              ],
              "status": 200,
              "status_text": ""
            }
          },
          "base_uri": "https://localhost:8080/",
          "height": 74
        },
        "id": "tR2d2UOCQ2FT",
        "outputId": "b258f9c3-74c8-4652-ca8a-5fe4c70dfe0d"
      },
      "source": [
        "from google.colab import files\n",
        "uploaded = files.upload()"
      ],
      "execution_count": 2,
      "outputs": [
        {
          "output_type": "display_data",
          "data": {
            "text/html": [
              "\n",
              "     <input type=\"file\" id=\"files-5ea067b3-d87f-43d9-8ccc-53fe65d227f8\" name=\"files[]\" multiple disabled\n",
              "        style=\"border:none\" />\n",
              "     <output id=\"result-5ea067b3-d87f-43d9-8ccc-53fe65d227f8\">\n",
              "      Upload widget is only available when the cell has been executed in the\n",
              "      current browser session. Please rerun this cell to enable.\n",
              "      </output>\n",
              "      <script src=\"/nbextensions/google.colab/files.js\"></script> "
            ],
            "text/plain": [
              "<IPython.core.display.HTML object>"
            ]
          },
          "metadata": {
            "tags": []
          }
        },
        {
          "output_type": "stream",
          "text": [
            "Saving FB.csv to FB.csv\n"
          ],
          "name": "stdout"
        }
      ]
    },
    {
      "cell_type": "code",
      "metadata": {
        "colab": {
          "base_uri": "https://localhost:8080/",
          "height": 449
        },
        "id": "ICIdcK2tR6u4",
        "outputId": "d33f0481-ffeb-46e6-ea18-72cee417bedf"
      },
      "source": [
        "import pandas as pd\r\n",
        "import io\r\n",
        "df = pd.read_csv(io.BytesIO(uploaded['FB.csv']), index_col='Date', parse_dates=True)\r\n",
        "df = df.dropna()\r\n",
        "print('Shape of data', df.shape)\r\n",
        "df"
      ],
      "execution_count": 4,
      "outputs": [
        {
          "output_type": "stream",
          "text": [
            "Shape of data (2159, 6)\n"
          ],
          "name": "stdout"
        },
        {
          "output_type": "execute_result",
          "data": {
            "text/html": [
              "<div>\n",
              "<style scoped>\n",
              "    .dataframe tbody tr th:only-of-type {\n",
              "        vertical-align: middle;\n",
              "    }\n",
              "\n",
              "    .dataframe tbody tr th {\n",
              "        vertical-align: top;\n",
              "    }\n",
              "\n",
              "    .dataframe thead th {\n",
              "        text-align: right;\n",
              "    }\n",
              "</style>\n",
              "<table border=\"1\" class=\"dataframe\">\n",
              "  <thead>\n",
              "    <tr style=\"text-align: right;\">\n",
              "      <th></th>\n",
              "      <th>High</th>\n",
              "      <th>Low</th>\n",
              "      <th>Open</th>\n",
              "      <th>Close</th>\n",
              "      <th>Volume</th>\n",
              "      <th>Adj Close</th>\n",
              "    </tr>\n",
              "    <tr>\n",
              "      <th>Date</th>\n",
              "      <th></th>\n",
              "      <th></th>\n",
              "      <th></th>\n",
              "      <th></th>\n",
              "      <th></th>\n",
              "      <th></th>\n",
              "    </tr>\n",
              "  </thead>\n",
              "  <tbody>\n",
              "    <tr>\n",
              "      <th>2012-05-18</th>\n",
              "      <td>45.000000</td>\n",
              "      <td>38.000000</td>\n",
              "      <td>42.049999</td>\n",
              "      <td>38.230000</td>\n",
              "      <td>573576400</td>\n",
              "      <td>38.230000</td>\n",
              "    </tr>\n",
              "    <tr>\n",
              "      <th>2012-05-21</th>\n",
              "      <td>36.660000</td>\n",
              "      <td>33.000000</td>\n",
              "      <td>36.529999</td>\n",
              "      <td>34.029999</td>\n",
              "      <td>168192700</td>\n",
              "      <td>34.029999</td>\n",
              "    </tr>\n",
              "    <tr>\n",
              "      <th>2012-05-22</th>\n",
              "      <td>33.590000</td>\n",
              "      <td>30.940001</td>\n",
              "      <td>32.610001</td>\n",
              "      <td>31.000000</td>\n",
              "      <td>101786600</td>\n",
              "      <td>31.000000</td>\n",
              "    </tr>\n",
              "    <tr>\n",
              "      <th>2012-05-23</th>\n",
              "      <td>32.500000</td>\n",
              "      <td>31.360001</td>\n",
              "      <td>31.370001</td>\n",
              "      <td>32.000000</td>\n",
              "      <td>73600000</td>\n",
              "      <td>32.000000</td>\n",
              "    </tr>\n",
              "    <tr>\n",
              "      <th>2012-05-24</th>\n",
              "      <td>33.209999</td>\n",
              "      <td>31.770000</td>\n",
              "      <td>32.950001</td>\n",
              "      <td>33.029999</td>\n",
              "      <td>50237200</td>\n",
              "      <td>33.029999</td>\n",
              "    </tr>\n",
              "    <tr>\n",
              "      <th>...</th>\n",
              "      <td>...</td>\n",
              "      <td>...</td>\n",
              "      <td>...</td>\n",
              "      <td>...</td>\n",
              "      <td>...</td>\n",
              "      <td>...</td>\n",
              "    </tr>\n",
              "    <tr>\n",
              "      <th>2020-12-09</th>\n",
              "      <td>287.630005</td>\n",
              "      <td>271.750000</td>\n",
              "      <td>283.660004</td>\n",
              "      <td>277.920013</td>\n",
              "      <td>25189700</td>\n",
              "      <td>277.920013</td>\n",
              "    </tr>\n",
              "    <tr>\n",
              "      <th>2020-12-10</th>\n",
              "      <td>278.730011</td>\n",
              "      <td>271.859985</td>\n",
              "      <td>275.540009</td>\n",
              "      <td>277.119995</td>\n",
              "      <td>20065100</td>\n",
              "      <td>277.119995</td>\n",
              "    </tr>\n",
              "    <tr>\n",
              "      <th>2020-12-11</th>\n",
              "      <td>276.480011</td>\n",
              "      <td>270.250000</td>\n",
              "      <td>274.529999</td>\n",
              "      <td>273.549988</td>\n",
              "      <td>14391400</td>\n",
              "      <td>273.549988</td>\n",
              "    </tr>\n",
              "    <tr>\n",
              "      <th>2020-12-14</th>\n",
              "      <td>277.220001</td>\n",
              "      <td>271.559998</td>\n",
              "      <td>273.369995</td>\n",
              "      <td>274.190002</td>\n",
              "      <td>16376900</td>\n",
              "      <td>274.190002</td>\n",
              "    </tr>\n",
              "    <tr>\n",
              "      <th>2020-12-15</th>\n",
              "      <td>276.079987</td>\n",
              "      <td>267.470001</td>\n",
              "      <td>274.829987</td>\n",
              "      <td>275.549988</td>\n",
              "      <td>23965500</td>\n",
              "      <td>275.549988</td>\n",
              "    </tr>\n",
              "  </tbody>\n",
              "</table>\n",
              "<p>2159 rows × 6 columns</p>\n",
              "</div>"
            ],
            "text/plain": [
              "                  High         Low  ...     Volume   Adj Close\n",
              "Date                                ...                       \n",
              "2012-05-18   45.000000   38.000000  ...  573576400   38.230000\n",
              "2012-05-21   36.660000   33.000000  ...  168192700   34.029999\n",
              "2012-05-22   33.590000   30.940001  ...  101786600   31.000000\n",
              "2012-05-23   32.500000   31.360001  ...   73600000   32.000000\n",
              "2012-05-24   33.209999   31.770000  ...   50237200   33.029999\n",
              "...                ...         ...  ...        ...         ...\n",
              "2020-12-09  287.630005  271.750000  ...   25189700  277.920013\n",
              "2020-12-10  278.730011  271.859985  ...   20065100  277.119995\n",
              "2020-12-11  276.480011  270.250000  ...   14391400  273.549988\n",
              "2020-12-14  277.220001  271.559998  ...   16376900  274.190002\n",
              "2020-12-15  276.079987  267.470001  ...   23965500  275.549988\n",
              "\n",
              "[2159 rows x 6 columns]"
            ]
          },
          "metadata": {
            "tags": []
          },
          "execution_count": 4
        }
      ]
    },
    {
      "cell_type": "code",
      "metadata": {
        "colab": {
          "base_uri": "https://localhost:8080/"
        },
        "id": "SalRo_WWQ2Fb",
        "outputId": "c478f97e-f3e8-4eab-a9a2-4d7e5cd4a525"
      },
      "source": [
        "df1=df.reset_index()['Close']\r\n",
        "# df1 = df['Close']\r\n",
        "df1"
      ],
      "execution_count": 8,
      "outputs": [
        {
          "output_type": "execute_result",
          "data": {
            "text/plain": [
              "0        38.230000\n",
              "1        34.029999\n",
              "2        31.000000\n",
              "3        32.000000\n",
              "4        33.029999\n",
              "           ...    \n",
              "2154    277.920013\n",
              "2155    277.119995\n",
              "2156    273.549988\n",
              "2157    274.190002\n",
              "2158    275.549988\n",
              "Name: Close, Length: 2159, dtype: float64"
            ]
          },
          "metadata": {
            "tags": []
          },
          "execution_count": 8
        }
      ]
    },
    {
      "cell_type": "code",
      "metadata": {
        "colab": {
          "base_uri": "https://localhost:8080/",
          "height": 282
        },
        "id": "ZL9QflatQ2Fb",
        "outputId": "6606b947-53de-4a26-8ad7-caf3381e4985"
      },
      "source": [
        "import matplotlib.pyplot as plt\n",
        "plt.plot(df1)\n",
        "# df['Close'].plot(figsize=(12,5))"
      ],
      "execution_count": 9,
      "outputs": [
        {
          "output_type": "execute_result",
          "data": {
            "text/plain": [
              "[<matplotlib.lines.Line2D at 0x7fb897958128>]"
            ]
          },
          "metadata": {
            "tags": []
          },
          "execution_count": 9
        },
        {
          "output_type": "display_data",
          "data": {
            "image/png": "[encoded data removed]",
            "text/plain": [
              "<Figure size 432x288 with 1 Axes>"
            ]
          },
          "metadata": {
            "tags": [],
            "needs_background": "light"
          }
        }
      ]
    },
    {
      "cell_type": "code",
      "metadata": {
        "id": "WlYlbrLKQ2Fc"
      },
      "source": [
        "import numpy as np "
      ],
      "execution_count": 10,
      "outputs": []
    },
    {
      "cell_type": "code",
      "metadata": {
        "id": "LyeaDfqBQ2Fc"
      },
      "source": [
        "from sklearn.preprocessing import MinMaxScaler\n",
        "scaler=MinMaxScaler(feature_range=(0,1))\n",
        "df1=scaler.fit_transform(np.array(df1).reshape(-1,1))"
      ],
      "execution_count": 11,
      "outputs": []
    },
    {
      "cell_type": "code",
      "metadata": {
        "colab": {
          "base_uri": "https://localhost:8080/"
        },
        "id": "ndX7_OhQQ2Fd",
        "outputId": "5953c1d6-5648-4ddc-f9cc-b31e934d2e4e"
      },
      "source": [
        "df1.shape"
      ],
      "execution_count": 12,
      "outputs": [
        {
          "output_type": "execute_result",
          "data": {
            "text/plain": [
              "(2159, 1)"
            ]
          },
          "metadata": {
            "tags": []
          },
          "execution_count": 12
        }
      ]
    },
    {
      "cell_type": "code",
      "metadata": {
        "id": "mq-NXAUFQ2Fd"
      },
      "source": [
        "##splitting dataset into train and test split\n",
        "training_size=int(len(df1)*0.75)\n",
        "# test_size=len(df1)-training_size\n",
        "test_size=int(len(df1)*.1)\n",
        "dataset_length = training_size+test_size\n",
        "train_data,test_data=df1[0:training_size],df1[training_size:dataset_length]"
      ],
      "execution_count": 27,
      "outputs": []
    },
    {
      "cell_type": "code",
      "metadata": {
        "colab": {
          "base_uri": "https://localhost:8080/"
        },
        "id": "L5DGupGLQ2Fd",
        "outputId": "4fcf302f-4d81-48f9-8acf-5cb196c92afe"
      },
      "source": [
        "training_size, test_size"
      ],
      "execution_count": 31,
      "outputs": [
        {
          "output_type": "execute_result",
          "data": {
            "text/plain": [
              "(1619, 215)"
            ]
          },
          "metadata": {
            "tags": []
          },
          "execution_count": 31
        }
      ]
    },
    {
      "cell_type": "code",
      "metadata": {
        "id": "KCyVxYUtQ2Fe"
      },
      "source": [
        "# convert an array of values into a dataset matrix\n",
        "def create_dataset(dataset, time_step=1):\n",
        "\tdataX, dataY = [], []\n",
        "\tfor i in range(len(dataset)-time_step-1):\n",
        "\t\ta = dataset[i:(i+time_step), 0]   ###i=0, 0,1,2,3-----149   100 \n",
        "\t\tdataX.append(a)\n",
        "\t\tdataY.append(dataset[i + time_step, 0])\n",
        "\treturn np.array(dataX), np.array(dataY)"
      ],
      "execution_count": 34,
      "outputs": []
    },
    {
      "cell_type": "code",
      "metadata": {
        "id": "FwztFGVqQ2Fe"
      },
      "source": [
        "# reshape into X=t,t+1,t+2,t+3...t+149 and Y=t+150\n",
        "time_step = 150\n",
        "x_train, y_train = create_dataset(train_data, time_step)\n",
        "x_test, y_test = create_dataset(test_data, time_step)"
      ],
      "execution_count": 35,
      "outputs": []
    },
    {
      "cell_type": "code",
      "metadata": {
        "colab": {
          "base_uri": "https://localhost:8080/"
        },
        "id": "XdTnPFcqQ2Fe",
        "outputId": "d837f540-936f-4e8a-afc4-a391647ce81f"
      },
      "source": [
        "print(x_train.shape), print(y_train.shape)"
      ],
      "execution_count": 40,
      "outputs": [
        {
          "output_type": "stream",
          "text": [
            "(1468, 150)\n",
            "(1468,)\n"
          ],
          "name": "stdout"
        },
        {
          "output_type": "execute_result",
          "data": {
            "text/plain": [
              "(None, None)"
            ]
          },
          "metadata": {
            "tags": []
          },
          "execution_count": 40
        }
      ]
    },
    {
      "cell_type": "code",
      "metadata": {
        "colab": {
          "base_uri": "https://localhost:8080/"
        },
        "id": "4gtF0DiVQ2Fe",
        "outputId": "f0b88bef-44e6-4678-c823-14795b36716c"
      },
      "source": [
        "print(x_test.shape), print(y_test.shape)"
      ],
      "execution_count": 42,
      "outputs": [
        {
          "output_type": "stream",
          "text": [
            "(64, 150)\n",
            "(64,)\n"
          ],
          "name": "stdout"
        },
        {
          "output_type": "execute_result",
          "data": {
            "text/plain": [
              "(None, None)"
            ]
          },
          "metadata": {
            "tags": []
          },
          "execution_count": 42
        }
      ]
    },
    {
      "cell_type": "code",
      "metadata": {
        "id": "mVLN7SA_Q2Ff"
      },
      "source": [
        "import tensorflow as tf"
      ],
      "execution_count": 20,
      "outputs": []
    },
    {
      "cell_type": "code",
      "metadata": {
        "id": "F4t_5JujQ2Ff"
      },
      "source": [
        "# reshape input to be [samples, time steps, features] which is required for LSTM\n",
        "x_train =x_train.reshape(x_train.shape[0],x_train.shape[1] , 1)\n",
        "x_test = x_test.reshape(x_test.shape[0],x_test.shape[1] , 1)"
      ],
      "execution_count": 43,
      "outputs": []
    },
    {
      "cell_type": "code",
      "metadata": {
        "id": "r79w9mjiQ2Ff"
      },
      "source": [
        "### Create the Stacked LSTM model\n",
        "from tensorflow.keras.models import Sequential\n",
        "from tensorflow.keras.layers import Dense\n",
        "from tensorflow.keras.layers import LSTM"
      ],
      "execution_count": 44,
      "outputs": []
    },
    {
      "cell_type": "code",
      "metadata": {
        "id": "9jXRPAD8Q2Ff"
      },
      "source": [
        "model=Sequential()\n",
        "model.add(LSTM(50,return_sequences=True,input_shape=(150,1)))\n",
        "model.add(LSTM(50,return_sequences=True))\n",
        "model.add(LSTM(50))\n",
        "model.add(Dense(1))\n",
        "model.compile(loss='mean_squared_error',optimizer='adam')"
      ],
      "execution_count": 45,
      "outputs": []
    },
    {
      "cell_type": "code",
      "metadata": {
        "colab": {
          "base_uri": "https://localhost:8080/"
        },
        "id": "QUZDo4U1Q2Fg",
        "outputId": "6bc6e326-29e9-4d33-ca00-6a07f53a0400"
      },
      "source": [
        "model.summary()"
      ],
      "execution_count": 46,
      "outputs": [
        {
          "output_type": "stream",
          "text": [
            "Model: \"sequential\"\n",
            "_________________________________________________________________\n",
            "Layer (type)                 Output Shape              Param #   \n",
            "=================================================================\n",
            "lstm (LSTM)                  (None, 150, 50)           10400     \n",
            "_________________________________________________________________\n",
            "lstm_1 (LSTM)                (None, 150, 50)           20200     \n",
            "_________________________________________________________________\n",
            "lstm_2 (LSTM)                (None, 50)                20200     \n",
            "_________________________________________________________________\n",
            "dense (Dense)                (None, 1)                 51        \n",
            "=================================================================\n",
            "Total params: 50,851\n",
            "Trainable params: 50,851\n",
            "Non-trainable params: 0\n",
            "_________________________________________________________________\n"
          ],
          "name": "stdout"
        }
      ]
    },
    {
      "cell_type": "code",
      "metadata": {
        "colab": {
          "base_uri": "https://localhost:8080/"
        },
        "id": "kwOOYfU2Q2Fg",
        "outputId": "e3336e7d-4574-459d-c757-cb24c53e31bb"
      },
      "source": [
        "model.summary()"
      ],
      "execution_count": 25,
      "outputs": [
        {
          "output_type": "stream",
          "text": [
            "Model: \"sequential\"\n",
            "_________________________________________________________________\n",
            "Layer (type)                 Output Shape              Param #   \n",
            "=================================================================\n",
            "lstm (LSTM)                  (None, 100, 50)           10400     \n",
            "_________________________________________________________________\n",
            "lstm_1 (LSTM)                (None, 100, 50)           20200     \n",
            "_________________________________________________________________\n",
            "lstm_2 (LSTM)                (None, 50)                20200     \n",
            "_________________________________________________________________\n",
            "dense (Dense)                (None, 1)                 51        \n",
            "=================================================================\n",
            "Total params: 50,851\n",
            "Trainable params: 50,851\n",
            "Non-trainable params: 0\n",
            "_________________________________________________________________\n"
          ],
          "name": "stdout"
        }
      ]
    },
    {
      "cell_type": "code",
      "metadata": {
        "colab": {
          "base_uri": "https://localhost:8080/"
        },
        "id": "iQA8R217Q2Fg",
        "outputId": "6cb147af-9599-4fbb-fce0-8c2dc7c1db7a"
      },
      "source": [
        "model.fit(x_train,y_train,validation_data=(x_test,y_test),epochs=100,batch_size=64,verbose=1)"
      ],
      "execution_count": 47,
      "outputs": [
        {
          "output_type": "stream",
          "text": [
            "Epoch 1/100\n",
            "23/23 [==============================] - 12s 327ms/step - loss: 0.0508 - val_loss: 0.0019\n",
            "Epoch 2/100\n",
            "23/23 [==============================] - 6s 249ms/step - loss: 0.0028 - val_loss: 0.0018\n",
            "Epoch 3/100\n",
            "23/23 [==============================] - 6s 245ms/step - loss: 5.8927e-04 - val_loss: 0.0014\n",
            "Epoch 4/100\n",
            "23/23 [==============================] - 6s 258ms/step - loss: 4.2695e-04 - val_loss: 0.0014\n",
            "Epoch 5/100\n",
            "23/23 [==============================] - 6s 249ms/step - loss: 3.9374e-04 - val_loss: 0.0015\n",
            "Epoch 6/100\n",
            "23/23 [==============================] - 6s 254ms/step - loss: 4.0214e-04 - val_loss: 0.0014\n",
            "Epoch 7/100\n",
            "23/23 [==============================] - 6s 253ms/step - loss: 3.8297e-04 - val_loss: 0.0014\n",
            "Epoch 8/100\n",
            "23/23 [==============================] - 6s 252ms/step - loss: 3.4911e-04 - val_loss: 0.0013\n",
            "Epoch 9/100\n",
            "23/23 [==============================] - 6s 259ms/step - loss: 3.6736e-04 - val_loss: 0.0014\n",
            "Epoch 10/100\n",
            "23/23 [==============================] - 6s 255ms/step - loss: 3.2301e-04 - val_loss: 0.0014\n",
            "Epoch 11/100\n",
            "23/23 [==============================] - 6s 248ms/step - loss: 3.5071e-04 - val_loss: 0.0013\n",
            "Epoch 12/100\n",
            "23/23 [==============================] - 6s 257ms/step - loss: 4.0785e-04 - val_loss: 0.0013\n",
            "Epoch 13/100\n",
            "23/23 [==============================] - 6s 250ms/step - loss: 3.2601e-04 - val_loss: 0.0013\n",
            "Epoch 14/100\n",
            "23/23 [==============================] - 6s 251ms/step - loss: 3.2234e-04 - val_loss: 0.0012\n",
            "Epoch 15/100\n",
            "23/23 [==============================] - 6s 253ms/step - loss: 3.2290e-04 - val_loss: 0.0013\n",
            "Epoch 16/100\n",
            "23/23 [==============================] - 6s 241ms/step - loss: 3.2759e-04 - val_loss: 0.0012\n",
            "Epoch 17/100\n",
            "23/23 [==============================] - 6s 246ms/step - loss: 3.2800e-04 - val_loss: 0.0013\n",
            "Epoch 18/100\n",
            "23/23 [==============================] - 6s 247ms/step - loss: 3.2851e-04 - val_loss: 0.0012\n",
            "Epoch 19/100\n",
            "23/23 [==============================] - 6s 240ms/step - loss: 3.2501e-04 - val_loss: 0.0012\n",
            "Epoch 20/100\n",
            "23/23 [==============================] - 6s 242ms/step - loss: 3.2872e-04 - val_loss: 0.0011\n",
            "Epoch 21/100\n",
            "23/23 [==============================] - 6s 241ms/step - loss: 3.2176e-04 - val_loss: 0.0011\n",
            "Epoch 22/100\n",
            "23/23 [==============================] - 6s 240ms/step - loss: 2.7515e-04 - val_loss: 0.0013\n",
            "Epoch 23/100\n",
            "23/23 [==============================] - 6s 253ms/step - loss: 3.1327e-04 - val_loss: 0.0011\n",
            "Epoch 24/100\n",
            "23/23 [==============================] - 6s 245ms/step - loss: 2.8816e-04 - val_loss: 0.0010\n",
            "Epoch 25/100\n",
            "23/23 [==============================] - 5s 236ms/step - loss: 3.1932e-04 - val_loss: 9.8986e-04\n",
            "Epoch 26/100\n",
            "23/23 [==============================] - 6s 247ms/step - loss: 2.6887e-04 - val_loss: 0.0010\n",
            "Epoch 27/100\n",
            "23/23 [==============================] - 5s 237ms/step - loss: 2.6142e-04 - val_loss: 9.4365e-04\n",
            "Epoch 28/100\n",
            "23/23 [==============================] - 6s 248ms/step - loss: 3.0656e-04 - val_loss: 9.5156e-04\n",
            "Epoch 29/100\n",
            "23/23 [==============================] - 6s 250ms/step - loss: 3.1601e-04 - val_loss: 9.0820e-04\n",
            "Epoch 30/100\n",
            "23/23 [==============================] - 6s 240ms/step - loss: 2.4098e-04 - val_loss: 0.0014\n",
            "Epoch 31/100\n",
            "23/23 [==============================] - 6s 243ms/step - loss: 2.9747e-04 - val_loss: 0.0010\n",
            "Epoch 32/100\n",
            "23/23 [==============================] - 5s 239ms/step - loss: 4.0028e-04 - val_loss: 8.8785e-04\n",
            "Epoch 33/100\n",
            "23/23 [==============================] - 5s 238ms/step - loss: 2.7680e-04 - val_loss: 8.4978e-04\n",
            "Epoch 34/100\n",
            "23/23 [==============================] - 5s 237ms/step - loss: 2.5276e-04 - val_loss: 8.2508e-04\n",
            "Epoch 35/100\n",
            "23/23 [==============================] - 6s 249ms/step - loss: 2.9287e-04 - val_loss: 8.4372e-04\n",
            "Epoch 36/100\n",
            "23/23 [==============================] - 6s 243ms/step - loss: 2.3218e-04 - val_loss: 7.8999e-04\n",
            "Epoch 37/100\n",
            "23/23 [==============================] - 6s 247ms/step - loss: 2.1904e-04 - val_loss: 9.1589e-04\n",
            "Epoch 38/100\n",
            "23/23 [==============================] - 6s 246ms/step - loss: 2.5814e-04 - val_loss: 7.6225e-04\n",
            "Epoch 39/100\n",
            "23/23 [==============================] - 6s 251ms/step - loss: 2.1277e-04 - val_loss: 7.5936e-04\n",
            "Epoch 40/100\n",
            "23/23 [==============================] - 6s 249ms/step - loss: 2.5472e-04 - val_loss: 7.4759e-04\n",
            "Epoch 41/100\n",
            "23/23 [==============================] - 6s 245ms/step - loss: 2.9071e-04 - val_loss: 8.5727e-04\n",
            "Epoch 42/100\n",
            "23/23 [==============================] - 6s 254ms/step - loss: 2.9903e-04 - val_loss: 8.6072e-04\n",
            "Epoch 43/100\n",
            "23/23 [==============================] - 6s 250ms/step - loss: 2.7772e-04 - val_loss: 7.1406e-04\n",
            "Epoch 44/100\n",
            "23/23 [==============================] - 6s 255ms/step - loss: 2.2596e-04 - val_loss: 6.6750e-04\n",
            "Epoch 45/100\n",
            "23/23 [==============================] - 6s 250ms/step - loss: 2.4426e-04 - val_loss: 7.9152e-04\n",
            "Epoch 46/100\n",
            "23/23 [==============================] - 6s 252ms/step - loss: 2.6049e-04 - val_loss: 8.6320e-04\n",
            "Epoch 47/100\n",
            "23/23 [==============================] - 6s 256ms/step - loss: 3.5240e-04 - val_loss: 6.4918e-04\n",
            "Epoch 48/100\n",
            "23/23 [==============================] - 6s 250ms/step - loss: 2.3248e-04 - val_loss: 7.1122e-04\n",
            "Epoch 49/100\n",
            "23/23 [==============================] - 6s 245ms/step - loss: 2.1145e-04 - val_loss: 6.4376e-04\n",
            "Epoch 50/100\n",
            "23/23 [==============================] - 6s 244ms/step - loss: 2.3378e-04 - val_loss: 6.3781e-04\n",
            "Epoch 51/100\n",
            "23/23 [==============================] - 6s 247ms/step - loss: 2.0511e-04 - val_loss: 6.1586e-04\n",
            "Epoch 52/100\n",
            "23/23 [==============================] - 6s 250ms/step - loss: 3.1291e-04 - val_loss: 6.0348e-04\n",
            "Epoch 53/100\n",
            "23/23 [==============================] - 6s 256ms/step - loss: 2.3810e-04 - val_loss: 7.0516e-04\n",
            "Epoch 54/100\n",
            "23/23 [==============================] - 6s 243ms/step - loss: 2.6760e-04 - val_loss: 6.5662e-04\n",
            "Epoch 55/100\n",
            "23/23 [==============================] - 6s 244ms/step - loss: 2.4566e-04 - val_loss: 5.7373e-04\n",
            "Epoch 56/100\n",
            "23/23 [==============================] - 6s 249ms/step - loss: 2.2262e-04 - val_loss: 6.7845e-04\n",
            "Epoch 57/100\n",
            "23/23 [==============================] - 6s 248ms/step - loss: 2.2352e-04 - val_loss: 5.3460e-04\n",
            "Epoch 58/100\n",
            "23/23 [==============================] - 6s 244ms/step - loss: 2.3957e-04 - val_loss: 5.6894e-04\n",
            "Epoch 59/100\n",
            "23/23 [==============================] - 6s 258ms/step - loss: 2.3324e-04 - val_loss: 5.4584e-04\n",
            "Epoch 60/100\n",
            "23/23 [==============================] - 6s 245ms/step - loss: 2.2427e-04 - val_loss: 5.3559e-04\n",
            "Epoch 61/100\n",
            "23/23 [==============================] - 6s 242ms/step - loss: 3.2938e-04 - val_loss: 7.7845e-04\n",
            "Epoch 62/100\n",
            "23/23 [==============================] - 6s 252ms/step - loss: 2.2024e-04 - val_loss: 5.0664e-04\n",
            "Epoch 63/100\n",
            "23/23 [==============================] - 6s 243ms/step - loss: 1.7517e-04 - val_loss: 5.4452e-04\n",
            "Epoch 64/100\n",
            "23/23 [==============================] - 6s 247ms/step - loss: 2.0949e-04 - val_loss: 4.8771e-04\n",
            "Epoch 65/100\n",
            "23/23 [==============================] - 6s 246ms/step - loss: 2.1063e-04 - val_loss: 4.6742e-04\n",
            "Epoch 66/100\n",
            "23/23 [==============================] - 6s 257ms/step - loss: 2.6175e-04 - val_loss: 5.5898e-04\n",
            "Epoch 67/100\n",
            "23/23 [==============================] - 6s 247ms/step - loss: 1.9094e-04 - val_loss: 5.2696e-04\n",
            "Epoch 68/100\n",
            "23/23 [==============================] - 6s 257ms/step - loss: 2.1630e-04 - val_loss: 5.0002e-04\n",
            "Epoch 69/100\n",
            "23/23 [==============================] - 6s 251ms/step - loss: 2.0010e-04 - val_loss: 4.8953e-04\n",
            "Epoch 70/100\n",
            "23/23 [==============================] - 6s 250ms/step - loss: 1.7193e-04 - val_loss: 4.8879e-04\n",
            "Epoch 71/100\n",
            "23/23 [==============================] - 6s 248ms/step - loss: 1.9792e-04 - val_loss: 8.1876e-04\n",
            "Epoch 72/100\n",
            "23/23 [==============================] - 6s 245ms/step - loss: 2.9425e-04 - val_loss: 4.7853e-04\n",
            "Epoch 73/100\n",
            "23/23 [==============================] - 6s 254ms/step - loss: 2.4983e-04 - val_loss: 5.7640e-04\n",
            "Epoch 74/100\n",
            "23/23 [==============================] - 6s 247ms/step - loss: 1.8681e-04 - val_loss: 4.0655e-04\n",
            "Epoch 75/100\n",
            "23/23 [==============================] - 6s 250ms/step - loss: 1.8672e-04 - val_loss: 4.1199e-04\n",
            "Epoch 76/100\n",
            "23/23 [==============================] - 6s 259ms/step - loss: 1.5511e-04 - val_loss: 4.0546e-04\n",
            "Epoch 77/100\n",
            "23/23 [==============================] - 6s 247ms/step - loss: 1.8925e-04 - val_loss: 3.9070e-04\n",
            "Epoch 78/100\n",
            "23/23 [==============================] - 6s 248ms/step - loss: 1.4709e-04 - val_loss: 3.8004e-04\n",
            "Epoch 79/100\n",
            "23/23 [==============================] - 6s 250ms/step - loss: 1.8880e-04 - val_loss: 3.6930e-04\n",
            "Epoch 80/100\n",
            "23/23 [==============================] - 6s 248ms/step - loss: 1.5275e-04 - val_loss: 3.7038e-04\n",
            "Epoch 81/100\n",
            "23/23 [==============================] - 6s 247ms/step - loss: 1.4784e-04 - val_loss: 3.6853e-04\n",
            "Epoch 82/100\n",
            "23/23 [==============================] - 6s 253ms/step - loss: 2.0820e-04 - val_loss: 4.2076e-04\n",
            "Epoch 83/100\n",
            "23/23 [==============================] - 6s 255ms/step - loss: 1.8158e-04 - val_loss: 4.7893e-04\n",
            "Epoch 84/100\n",
            "23/23 [==============================] - 6s 251ms/step - loss: 1.7952e-04 - val_loss: 3.6862e-04\n",
            "Epoch 85/100\n",
            "23/23 [==============================] - 6s 247ms/step - loss: 1.7779e-04 - val_loss: 3.4161e-04\n",
            "Epoch 86/100\n",
            "23/23 [==============================] - 6s 247ms/step - loss: 1.2812e-04 - val_loss: 3.2483e-04\n",
            "Epoch 87/100\n",
            "23/23 [==============================] - 6s 255ms/step - loss: 1.4020e-04 - val_loss: 3.1965e-04\n",
            "Epoch 88/100\n",
            "23/23 [==============================] - 6s 251ms/step - loss: 1.3104e-04 - val_loss: 3.1111e-04\n",
            "Epoch 89/100\n",
            "23/23 [==============================] - 6s 248ms/step - loss: 1.3612e-04 - val_loss: 3.0462e-04\n",
            "Epoch 90/100\n",
            "23/23 [==============================] - 6s 248ms/step - loss: 1.5966e-04 - val_loss: 3.3992e-04\n",
            "Epoch 91/100\n",
            "23/23 [==============================] - 6s 255ms/step - loss: 1.2093e-04 - val_loss: 3.2259e-04\n",
            "Epoch 92/100\n",
            "23/23 [==============================] - 6s 248ms/step - loss: 1.4072e-04 - val_loss: 2.8701e-04\n",
            "Epoch 93/100\n",
            "23/23 [==============================] - 6s 248ms/step - loss: 1.2373e-04 - val_loss: 3.3893e-04\n",
            "Epoch 94/100\n",
            "23/23 [==============================] - 6s 249ms/step - loss: 1.3798e-04 - val_loss: 3.0832e-04\n",
            "Epoch 95/100\n",
            "23/23 [==============================] - 6s 247ms/step - loss: 1.4157e-04 - val_loss: 3.9542e-04\n",
            "Epoch 96/100\n",
            "23/23 [==============================] - 6s 254ms/step - loss: 1.0681e-04 - val_loss: 2.6476e-04\n",
            "Epoch 97/100\n",
            "23/23 [==============================] - 6s 250ms/step - loss: 1.1137e-04 - val_loss: 2.6584e-04\n",
            "Epoch 98/100\n",
            "23/23 [==============================] - 6s 248ms/step - loss: 1.2738e-04 - val_loss: 2.6178e-04\n",
            "Epoch 99/100\n",
            "23/23 [==============================] - 6s 257ms/step - loss: 1.1700e-04 - val_loss: 3.5631e-04\n",
            "Epoch 100/100\n",
            "23/23 [==============================] - 6s 244ms/step - loss: 1.3220e-04 - val_loss: 3.1942e-04\n"
          ],
          "name": "stdout"
        },
        {
          "output_type": "execute_result",
          "data": {
            "text/plain": [
              "<tensorflow.python.keras.callbacks.History at 0x7fb853346b70>"
            ]
          },
          "metadata": {
            "tags": []
          },
          "execution_count": 47
        }
      ]
    },
    {
      "cell_type": "code",
      "metadata": {
        "id": "7mqMex4vQ2Fg"
      },
      "source": [
        "# import tensorflow as tf"
      ],
      "execution_count": null,
      "outputs": []
    },
    {
      "cell_type": "code",
      "metadata": {
        "colab": {
          "base_uri": "https://localhost:8080/",
          "height": 36
        },
        "id": "P31HsHf1Q2Fg",
        "outputId": "10163b2c-c96b-4592-f196-6e43075bc4a3"
      },
      "source": [
        "tf.__version__"
      ],
      "execution_count": 27,
      "outputs": [
        {
          "output_type": "execute_result",
          "data": {
            "application/vnd.google.colaboratory.intrinsic+json": {
              "type": "string"
            },
            "text/plain": [
              "'2.4.1'"
            ]
          },
          "metadata": {
            "tags": []
          },
          "execution_count": 27
        }
      ]
    },
    {
      "cell_type": "code",
      "metadata": {
        "id": "S47QAzksQ2Fg"
      },
      "source": [
        "### Lets Do the prediction and check performance metrics\n",
        "train_predict=model.predict(x_train)\n",
        "test_predict=model.predict(x_test)"
      ],
      "execution_count": 48,
      "outputs": []
    },
    {
      "cell_type": "code",
      "metadata": {
        "id": "FL3iR3HqQ2Fh"
      },
      "source": [
        "##Transformback to original form\n",
        "train_predict=scaler.inverse_transform(train_predict)\n",
        "test_predict=scaler.inverse_transform(test_predict)"
      ],
      "execution_count": 49,
      "outputs": []
    },
    {
      "cell_type": "code",
      "metadata": {
        "colab": {
          "base_uri": "https://localhost:8080/"
        },
        "id": "krkYRIdyQ2Fh",
        "outputId": "03d36a12-6d9f-4e45-c3e4-765c5cd9835f"
      },
      "source": [
        "### Calculate RMSE performance metrics\n",
        "import math\n",
        "from sklearn.metrics import mean_squared_error\n",
        "math.sqrt(mean_squared_error(y_train,train_predict))"
      ],
      "execution_count": 50,
      "outputs": [
        {
          "output_type": "execute_result",
          "data": {
            "text/plain": [
              "117.58976645612404"
            ]
          },
          "metadata": {
            "tags": []
          },
          "execution_count": 50
        }
      ]
    },
    {
      "cell_type": "code",
      "metadata": {
        "colab": {
          "base_uri": "https://localhost:8080/"
        },
        "id": "86mMhJ-dQ2Fh",
        "outputId": "8193a130-fec2-4676-a3a7-b439ce798b84"
      },
      "source": [
        "### Test Data RMSE\n",
        "math.sqrt(mean_squared_error(y_test,test_predict))"
      ],
      "execution_count": 51,
      "outputs": [
        {
          "output_type": "execute_result",
          "data": {
            "text/plain": [
              "190.60540102443582"
            ]
          },
          "metadata": {
            "tags": []
          },
          "execution_count": 51
        }
      ]
    },
    {
      "cell_type": "code",
      "metadata": {
        "colab": {
          "base_uri": "https://localhost:8080/",
          "height": 265
        },
        "id": "8gsVyAAOQ2Fh",
        "outputId": "2c0489ba-49d2-48c5-febe-ea763d99d469"
      },
      "source": [
        "### Plotting \n",
        "# shift train predictions for plotting\n",
        "look_back=150\n",
        "trainPredictPlot = numpy.empty_like(df1)\n",
        "trainPredictPlot[:, :] = np.nan\n",
        "trainPredictPlot[look_back:len(train_predict)+look_back, :] = train_predict\n",
        "# shift test predictions for plotting\n",
        "testPredictPlot = numpy.empty_like(df1)\n",
        "testPredictPlot[:, :] = numpy.nan\n",
        "# testPredictPlot[len(train_predict)+(look_back*2)+1:len(df1)-1, :] = test_predict\n",
        "testPredictPlot[len(train_predict)+(look_back*2)+1:dataset_length-1, :] = test_predict\n",
        "# plot baseline and predictions\n",
        "plt.plot(scaler.inverse_transform(df1))\n",
        "plt.plot(trainPredictPlot)\n",
        "plt.plot(testPredictPlot)\n",
        "plt.show()"
      ],
      "execution_count": 54,
      "outputs": [
        {
          "output_type": "display_data",
          "data": {
            "image/png": "[encoded data removed]",
            "text/plain": [
              "<Figure size 432x288 with 1 Axes>"
            ]
          },
          "metadata": {
            "tags": [],
            "needs_background": "light"
          }
        }
      ]
    },
    {
      "cell_type": "code",
      "metadata": {
        "colab": {
          "base_uri": "https://localhost:8080/"
        },
        "id": "cGpNQkVLQ2Fi",
        "outputId": "16a9843a-7086-409d-c956-8856635a8c6f"
      },
      "source": [
        "len(test_data)"
      ],
      "execution_count": 61,
      "outputs": [
        {
          "output_type": "execute_result",
          "data": {
            "text/plain": [
              "215"
            ]
          },
          "metadata": {
            "tags": []
          },
          "execution_count": 61
        }
      ]
    },
    {
      "cell_type": "code",
      "metadata": {
        "colab": {
          "base_uri": "https://localhost:8080/"
        },
        "id": "z1MxOatfQ2Fi",
        "outputId": "16a05f32-e5bc-4f71-f9c7-20fa89217026"
      },
      "source": [
        "x_input=test_data[len(test_data)-150:].reshape(1,-1)\n",
        "x_input.shape"
      ],
      "execution_count": 221,
      "outputs": [
        {
          "output_type": "execute_result",
          "data": {
            "text/plain": [
              "(1, 150)"
            ]
          },
          "metadata": {
            "tags": []
          },
          "execution_count": 221
        }
      ]
    },
    {
      "cell_type": "code",
      "metadata": {
        "id": "l_7ho1VjQ2Fi"
      },
      "source": [
        "temp_input=list(x_input)\n",
        "temp_input=temp_input[0].tolist()"
      ],
      "execution_count": 222,
      "outputs": []
    },
    {
      "cell_type": "code",
      "metadata": {
        "colab": {
          "base_uri": "https://localhost:8080/"
        },
        "id": "tBN908F3Q2Fi",
        "outputId": "12d98e2c-1587-42cd-9409-2cdbf5a99939"
      },
      "source": [
        "# demonstrate prediction for next 30 days\n",
        "from numpy import array\n",
        "\n",
        "nod=60\n",
        "lst_output=[]\n",
        "n_steps=150\n",
        "i=0\n",
        "while(i<nod):\n",
        "    \n",
        "    if(len(temp_input)>150):\n",
        "        #print(temp_input)\n",
        "        x_input=np.array(temp_input[1:])\n",
        "        # print(\"{} day input {}\".format(i,x_input))\n",
        "        x_input=x_input.reshape(1,-1)\n",
        "        x_input = x_input.reshape((1, n_steps, 1))\n",
        "        #print(x_input)\n",
        "        yhat = model.predict(x_input, verbose=0)\n",
        "        # print(\"{} day output {}\".format(i,yhat))\n",
        "        temp_input.extend(yhat[0].tolist())\n",
        "        temp_input=temp_input[1:]\n",
        "        #print(temp_input)\n",
        "        lst_output.extend(yhat.tolist())\n",
        "        i=i+1\n",
        "    else:\n",
        "        x_input = x_input.reshape((1, n_steps,1))\n",
        "        yhat = model.predict(x_input, verbose=0)\n",
        "        # print(yhat[0])\n",
        "        temp_input.extend(yhat[0].tolist())\n",
        "        # print(len(temp_input))\n",
        "        lst_output.extend(yhat.tolist())\n",
        "        i=i+1\n",
        "    \n",
        "\n",
        "print(lst_output)"
      ],
      "execution_count": 223,
      "outputs": [
        {
          "output_type": "stream",
          "text": [
            "[[0.5911712646484375], [0.5931451320648193], [0.5959958434104919], [0.5989506840705872], [0.601697564125061], [0.6041867136955261], [0.6064705848693848], [0.6086336970329285], [0.610765278339386], [0.6129478216171265], [0.6152464747428894], [0.6177055239677429], [0.6203449368476868], [0.623162567615509], [0.626136302947998], [0.6292293667793274], [0.6323966979980469], [0.6355902552604675], [0.6387646198272705], [0.6418809294700623], [0.6449103951454163], [0.6478346586227417], [0.6506463289260864], [0.6533480286598206], [0.6559491753578186], [0.6584650874137878], [0.6609113216400146], [0.6633044481277466], [0.6656574606895447], [0.6679787635803223], [0.6702730655670166], [0.672539472579956], [0.6747727394104004], [0.6769651174545288], [0.6791068911552429], [0.6811879873275757], [0.6831986904144287], [0.6851319074630737], [0.6869823336601257], [0.6887475252151489], [0.6904276013374329], [0.6920251846313477], [0.6935440897941589], [0.6949895024299622], [0.696366548538208], [0.6976803541183472], [0.6989352703094482], [0.7001346349716187], [0.7012805938720703], [0.7023742198944092], [0.7034157514572144], [0.7044051289558411], [0.7053419947624207], [0.706225574016571], [0.7070559859275818], [0.7078337073326111], [0.7085599303245544], [0.7092354893684387], [0.7098631262779236], [0.7104448676109314]]\n"
          ],
          "name": "stdout"
        }
      ]
    },
    {
      "cell_type": "code",
      "metadata": {
        "id": "2PEefxqOQ2Fj"
      },
      "source": [
        "day_new=np.arange(1,151)\n",
        "day_pred=np.arange(151,151+nod)"
      ],
      "execution_count": 224,
      "outputs": []
    },
    {
      "cell_type": "code",
      "metadata": {
        "colab": {
          "base_uri": "https://localhost:8080/"
        },
        "id": "o7WlNJCdZQwk",
        "outputId": "bcaa971f-6597-4927-c362-aa461efefbfe"
      },
      "source": [
        "# len(scaler.inverse_transform(df1[4014:]).flatten())\r\n",
        "len(day_pred)"
      ],
      "execution_count": 219,
      "outputs": [
        {
          "output_type": "execute_result",
          "data": {
            "text/plain": [
              "60"
            ]
          },
          "metadata": {
            "tags": []
          },
          "execution_count": 219
        }
      ]
    },
    {
      "cell_type": "code",
      "metadata": {
        "id": "ZW72UY26Q2Fj"
      },
      "source": [
        "import matplotlib.pyplot as plt"
      ],
      "execution_count": 214,
      "outputs": []
    },
    {
      "cell_type": "code",
      "metadata": {
        "colab": {
          "base_uri": "https://localhost:8080/"
        },
        "id": "0zZGlb7DQ2Fj",
        "outputId": "7a6b9de5-2cc7-44b1-8634-70ca4ce52e9f"
      },
      "source": [
        "# scaler.inverse_transform(lst_output)\r\n",
        "dataset_length"
      ],
      "execution_count": 215,
      "outputs": [
        {
          "output_type": "execute_result",
          "data": {
            "text/plain": [
              "1834"
            ]
          },
          "metadata": {
            "tags": []
          },
          "execution_count": 215
        }
      ]
    },
    {
      "cell_type": "code",
      "metadata": {
        "colab": {
          "base_uri": "https://localhost:8080/",
          "height": 283
        },
        "id": "CDWv3QOSQ2Fj",
        "outputId": "605c8bbe-9750-49f3-beba-e62b9a3e2db9"
      },
      "source": [
        "plt.plot(day_new,scaler.inverse_transform(df1[dataset_length-150:dataset_length]).flatten())\n",
        "plt.plot(day_pred,scaler.inverse_transform(lst_output))"
      ],
      "execution_count": 225,
      "outputs": [
        {
          "output_type": "execute_result",
          "data": {
            "text/plain": [
              "[<matplotlib.lines.Line2D at 0x7fb84c907da0>]"
            ]
          },
          "metadata": {
            "tags": []
          },
          "execution_count": 225
        },
        {
          "output_type": "display_data",
          "data": {
            "image/png": "[encoded data removed]",
            "text/plain": [
              "<Figure size 432x288 with 1 Axes>"
            ]
          },
          "metadata": {
            "tags": [],
            "needs_background": "light"
          }
        }
      ]
    },
    {
      "cell_type": "code",
      "metadata": {
        "id": "TdSiv0tKQ2Fj"
      },
      "source": [
        "df3=df1[1000:dataset_length].tolist()\n",
        "df3.extend(lst_output)\n",
        "# plt.plot(df3[500:])\n",
        "df3=scaler.inverse_transform(df3).tolist()\n",
        "df4=df1[1000:dataset_length+100]\n",
        "df4=scaler.inverse_transform(df4)"
      ],
      "execution_count": 226,
      "outputs": []
    },
    {
      "cell_type": "code",
      "metadata": {
        "colab": {
          "base_uri": "https://localhost:8080/",
          "height": 283
        },
        "id": "hAf1QykNQ2Fj",
        "outputId": "b6a30d98-1d8a-4856-fd2b-37b7e43fcf8f"
      },
      "source": [
        "plt.plot(df3)\r\n",
        "plt.plot(df4) # actual - orange"
      ],
      "execution_count": 227,
      "outputs": [
        {
          "output_type": "execute_result",
          "data": {
            "text/plain": [
              "[<matplotlib.lines.Line2D at 0x7fb84ca65be0>]"
            ]
          },
          "metadata": {
            "tags": []
          },
          "execution_count": 227
        },
        {
          "output_type": "display_data",
          "data": {
            "image/png": "[encoded data removed]",
            "text/plain": [
              "<Figure size 432x288 with 1 Axes>"
            ]
          },
          "metadata": {
            "tags": [],
            "needs_background": "light"
          }
        }
      ]
    },
    {
      "cell_type": "code",
      "metadata": {
        "colab": {
          "base_uri": "https://localhost:8080/"
        },
        "id": "7y2CR50gqLeg",
        "outputId": "0ba5a33f-8890-41b9-e11e-104c7c32fbe3"
      },
      "source": [
        "# df4=scaler.inverse_transform(lst_output)\r\n",
        "# df4[-1]"
      ],
      "execution_count": 206,
      "outputs": [
        {
          "output_type": "execute_result",
          "data": {
            "text/plain": [
              "array([221.70812877])"
            ]
          },
          "metadata": {
            "tags": []
          },
          "execution_count": 206
        }
      ]
    }
  ]
}